{
  "nbformat": 4,
  "nbformat_minor": 0,
  "metadata": {
    "colab": {
      "name": "NLP A3_Finall99.ipynb",
      "provenance": [],
      "collapsed_sections": []
    },
    "kernelspec": {
      "name": "python3",
      "display_name": "Python 3"
    },
    "language_info": {
      "name": "python"
    }
  },
  "cells": [
    {
      "cell_type": "markdown",
      "metadata": {
        "id": "GXtjh_vCKVuz"
      },
      "source": [
        "## IMPORTS\n"
      ]
    },
    {
      "cell_type": "code",
      "metadata": {
        "id": "TtP9JkcfLVqd",
        "colab": {
          "base_uri": "https://localhost:8080/"
        },
        "outputId": "f81205a4-2bff-48f2-f85f-ec590aa6848f"
      },
      "source": [
        "# imports\n",
        "\n",
        "import sys\n",
        "import re\n",
        "import math\n",
        "import requests\n",
        "import xml.etree.ElementTree as ET\n",
        "import pandas as pd\n",
        "import operator\n",
        "from math import sqrt\n",
        "from statistics import mean\n",
        "from scipy.sparse import csr_matrix\n",
        "\n",
        "\n",
        "import spacy\n",
        "nlp = spacy.load(\"en_core_web_sm\")\n",
        "\n",
        "import nltk\n",
        "from nltk import stem  \n",
        "from nltk.tokenize import word_tokenize\n",
        "from nltk.corpus import stopwords\n",
        "from nltk.corpus import wordnet\n",
        "\n",
        "import collections\n",
        "from collections import Counter\n",
        "import itertools\n",
        "from itertools import islice\n",
        "from itertools import chain\n",
        "import pickle\n",
        "\n",
        "import seaborn as sns\n",
        "import matplotlib.pyplot as plt\n",
        "\n",
        "import numpy as np \n",
        "from numpy import mean\n",
        "from numpy import std\n",
        "\n",
        "import sklearn\n",
        "from sklearn import metrics\n",
        "from sklearn.datasets import make_classification\n",
        "from sklearn.model_selection import cross_val_score\n",
        "from sklearn.linear_model import LogisticRegression\n",
        "from sklearn.metrics import accuracy_score\n",
        "from sklearn.metrics import confusion_matrix\n",
        "from sklearn.model_selection import GridSearchCV\n",
        "from sklearn.model_selection import train_test_split\n",
        "from sklearn.model_selection import StratifiedKFold\n",
        "from sklearn.naive_bayes import MultinomialNB\n",
        "from sklearn.svm import SVC\n",
        "from sklearn.feature_extraction.text import TfidfVectorizer\n",
        "\n",
        "import tensorflow as tf\n",
        "from tensorflow.keras.layers import Embedding\n",
        "from tensorflow.keras.models import Sequential\n",
        "from tensorflow.keras.preprocessing import text, sequence\n",
        "from keras.callbacks import EarlyStopping\n",
        "from tensorflow.keras.layers import Dense, Dropout, Activation\n",
        "from tensorflow.keras.wrappers.scikit_learn import KerasClassifier\n",
        "from tensorflow.keras.layers import Conv1D, GlobalMaxPooling1D, MaxPooling1D\n",
        "from keras.models import Sequential\n",
        "from keras import layers\n",
        "\n",
        "import random\n",
        "seed_value = 1\n",
        "random.seed(seed_value)\n",
        "np.random.seed(seed_value)\n",
        "tf.random.set_seed(seed_value)\n",
        "\n",
        "# nltk downloads\n",
        "nltk.download('stopwords')\n",
        "nltk.download('punkt')\n",
        "nltk.download('wordnet')\n",
        "nltk.download('averaged_perceptron_tagger')"
      ],
      "execution_count": null,
      "outputs": [
        {
          "output_type": "stream",
          "text": [
            "[nltk_data] Downloading package stopwords to /root/nltk_data...\n",
            "[nltk_data]   Package stopwords is already up-to-date!\n",
            "[nltk_data] Downloading package punkt to /root/nltk_data...\n",
            "[nltk_data]   Package punkt is already up-to-date!\n",
            "[nltk_data] Downloading package wordnet to /root/nltk_data...\n",
            "[nltk_data]   Package wordnet is already up-to-date!\n",
            "[nltk_data] Downloading package averaged_perceptron_tagger to\n",
            "[nltk_data]     /root/nltk_data...\n",
            "[nltk_data]   Package averaged_perceptron_tagger is already up-to-\n",
            "[nltk_data]       date!\n"
          ],
          "name": "stdout"
        },
        {
          "output_type": "execute_result",
          "data": {
            "text/plain": [
              "True"
            ]
          },
          "metadata": {
            "tags": []
          },
          "execution_count": 66
        }
      ]
    },
    {
      "cell_type": "markdown",
      "metadata": {
        "id": "q1Wy0BQ0KcuK"
      },
      "source": [
        "## LOAD AND EXTRACT THE DATA"
      ]
    },
    {
      "cell_type": "code",
      "metadata": {
        "id": "o0wU219k5G9T"
      },
      "source": [
        "# function to load data from xml file and return total no of reviews,review text,aspect term and aspect term polarity\n",
        "def processXML(file):\n",
        "\n",
        "  # get root\n",
        "  root = ET.parse(file).getroot()\n",
        "\n",
        "  id = []\n",
        "  term = {}     # Review wise aspect term\n",
        "  polarity = {} # Polarities for a review\n",
        "  review_text = []\n",
        "\n",
        "  for item in root.findall('sentence'):    \n",
        "    id_val = item.get('id')\n",
        "    id.append(id_val)\n",
        "\n",
        "  total_no_reviews = len(id) \n",
        " \n",
        "  #  <review text>\n",
        "  for i in range(0,total_no_reviews):\n",
        "    review_text.append(root[i][0].text)\n",
        "\n",
        "  #  <aspect term>\n",
        "  for i in range (0, total_no_reviews):\n",
        "    aspect_terms = root[i][1]\n",
        "\n",
        "    # get term and polarity\n",
        "    for item in aspect_terms.findall('aspectTerm'):\n",
        "          term_val = item.get('term')\n",
        "          polarity_val = item.get('polarity')\n",
        "        \n",
        "          if i not in term:\n",
        "            term[i] = [term_val]\n",
        "            polarity[i] = [polarity_val]\n",
        "            \n",
        "          else:\n",
        "            term[i].append( term_val)\n",
        "            polarity[i] .append(polarity_val)\n",
        "  \n",
        "  return total_no_reviews,review_text,term,polarity;"
      ],
      "execution_count": null,
      "outputs": []
    },
    {
      "cell_type": "code",
      "metadata": {
        "colab": {
          "base_uri": "https://localhost:8080/"
        },
        "id": "by71fEsfwfZp",
        "outputId": "fb011c55-e238-4694-d524-4330c77f6085"
      },
      "source": [
        "# load and extract training data\n",
        "total_no_reviews,review_text,term,polarity = processXML('Restaurants_Train.xml')\n",
        "\n",
        "print(\"Total no, of reviews: \",total_no_reviews)\n",
        "print(\"Reviews containing aspect term: \", len(term))\n",
        "print(\"Some reviews: \",review_text[0:5])"
      ],
      "execution_count": null,
      "outputs": [
        {
          "output_type": "stream",
          "text": [
            "Total no, of reviews:  3041\n",
            "Reviews containing aspect term:  2021\n",
            "Some reviews:  ['But the staff was so horrible to us.', \"To be completely fair, the only redeeming factor was the food, which was above average, but couldn't make up for all the other deficiencies of Teodora.\", \"The food is uniformly exceptional, with a very capable kitchen which will proudly whip up whatever you feel like eating, whether it's on the menu or not.\", 'Where Gabriela personaly greets you and recommends you what to eat.', \"For those that go once and don't enjoy it, all I can say is that they just don't get it.\"]\n"
          ],
          "name": "stdout"
        }
      ]
    },
    {
      "cell_type": "code",
      "metadata": {
        "colab": {
          "base_uri": "https://localhost:8080/"
        },
        "id": "Uv2-dchMwvs9",
        "outputId": "961e063c-7318-4a4e-ba06-93f9f88bc84e"
      },
      "source": [
        "# load and extract testing data\n",
        "total_no_reviews_test,review_text_test,term_test,polarity_test = processXML('Restaurants_Test_Gold.xml')\n",
        "\n",
        "print(\"Total no, of reviews: \",total_no_reviews_test)\n",
        "print(\"Reviews containing aspect term: \", len(term_test))\n",
        "print(\"Some reviews: \",review_text_test[0:5])"
      ],
      "execution_count": null,
      "outputs": [
        {
          "output_type": "stream",
          "text": [
            "Total no, of reviews:  800\n",
            "Reviews containing aspect term:  606\n",
            "Some reviews:  ['The bread is top notch as well.', 'I have to say they have one of the fastest delivery times in the city.', 'Food is always fresh and hot- ready to eat!', 'Did I mention that the coffee is OUTSTANDING?', 'Certainly not the best sushi in New York, however, it is always fresh, and the place is very clean, sterile.']\n"
          ],
          "name": "stdout"
        }
      ]
    },
    {
      "cell_type": "code",
      "metadata": {
        "id": "ZDbSJsHFcStG"
      },
      "source": [
        "# function to return only unique words in a sentence\n",
        "def unique_list(line):\n",
        "  \n",
        "    ulist = []\n",
        "    [ulist.append(x) for x in line if x not in ulist]\n",
        "    return ulist"
      ],
      "execution_count": null,
      "outputs": []
    },
    {
      "cell_type": "code",
      "metadata": {
        "id": "k6gqKaEiUfLa"
      },
      "source": [
        "# function to extract relevant info with dependency parsing and return a dict of text and polarity for a review\n",
        "def getDictData(term, review_text, polarity): \n",
        "\n",
        "  index_list = []    # store index of review \n",
        "  descript_and_polarity = {} # dict to store the final description and its polarity\n",
        "\n",
        "  for key,val in term.items():\n",
        "    index_list.append(key)\n",
        "\n",
        "  for i in index_list: # for each index\n",
        "\n",
        "    review = review_text[i]\n",
        "    aspect_term_list = term[i]\n",
        "    polar_list = polarity[i]\n",
        "    doc = nlp(review)        # spacy\n",
        "    \n",
        "    for k,item in enumerate(aspect_term_list):  \n",
        "      single_term = len(item.split())      # get a single aspect terms in a review\n",
        "\n",
        "      if  single_term > 1:                 # if aspect term contains more than one word, keep the first word\n",
        "        item_ = item.split(' ', 1)[0]\n",
        "        aspect_term_list[k] = item_       # change the orginal term in the list\n",
        "\n",
        "    j = 0\n",
        "    word_type = []\n",
        "    description = ' '\n",
        "    descript_dict = {}\n",
        "\n",
        "    for token in doc:                       # for each word in review\n",
        "        if token.text in aspect_term_list:  # if word is an aspect term\n",
        "\n",
        "            aspect_item = token.text\n",
        "            head = token.head\n",
        "\n",
        "            head_child = head.children     # get all child text of head\n",
        "            token_child = token.children   # get all child text of token\n",
        "\n",
        "            for child_ in  token.children:\n",
        "              description = description + \" \" + str(child_) # add child text of token to description\n",
        "            \n",
        "            for child in head_child:\n",
        "              child = str(child)\n",
        "\n",
        "              if j not in  descript_dict:\n",
        "                 descript_dict[j] = [child] # store child text in a dict as list\n",
        "              else:\n",
        "                 descript_dict[j].append(child)\n",
        "\n",
        "            descript_dict[j].append(description)  # store child text of both token and head for an aspect term\n",
        "\n",
        "            j+=1 \n",
        "            description = ' '   \n",
        "\n",
        "    descript_joined = []\n",
        "\n",
        "    for key,val in  descript_dict.items(): # combine the words stored in list to form a single text sentence\n",
        "      value = ' '.join(val)\n",
        "      value = ' '.join(unique_list(value.split())) # remove repeated words\n",
        "      descript_joined.append(value) \n",
        "\n",
        "    for key,val in zip(polar_list, descript_joined): \n",
        "       descript_and_polarity[val] = key   # store description and polarity in a dict\n",
        "\n",
        "  return descript_and_polarity"
      ],
      "execution_count": null,
      "outputs": []
    },
    {
      "cell_type": "code",
      "metadata": {
        "colab": {
          "base_uri": "https://localhost:8080/"
        },
        "id": "TCp4oKsIFB49",
        "outputId": "fc7866f2-788b-426b-9323-2d55a750c6ec"
      },
      "source": [
        "all_data_train = getDictData(term,review_text,polarity)\n",
        "print(len(all_data_train)) \n",
        "\n",
        "all_data_test = getDictData(term_test,review_text_test,polarity_test)\n",
        "len(all_data_test) "
      ],
      "execution_count": null,
      "outputs": [
        {
          "output_type": "stream",
          "text": [
            "3327\n"
          ],
          "name": "stdout"
        },
        {
          "output_type": "execute_result",
          "data": {
            "text/plain": [
              "1057"
            ]
          },
          "metadata": {
            "tags": []
          },
          "execution_count": 7
        }
      ]
    },
    {
      "cell_type": "code",
      "metadata": {
        "id": "Kj1pKgYAX--E",
        "colab": {
          "base_uri": "https://localhost:8080/"
        },
        "outputId": "9e5cc5e4-da47-41f9-b534-023e78d2b27c"
      },
      "source": [
        "# training dataframe\n",
        "df_train = pd.DataFrame(list(all_data_train.items()),columns = ['text','sentiment']) \n",
        "print(\"Training data shape: \",df_train.shape) \n",
        "\n",
        "# testing dataframe\n",
        "df_test = pd.DataFrame(list(all_data_test.items()),columns = ['text','sentiment']) \n",
        "print(\"Testing data shape: \", df_test.shape)"
      ],
      "execution_count": null,
      "outputs": [
        {
          "output_type": "stream",
          "text": [
            "Training data shape:  (3327, 2)\n",
            "Testing data shape:  (1057, 2)\n"
          ],
          "name": "stdout"
        }
      ]
    },
    {
      "cell_type": "code",
      "metadata": {
        "colab": {
          "base_uri": "https://localhost:8080/"
        },
        "id": "Bno8SKgPpowy",
        "outputId": "b5a07919-1000-41b2-8fd7-7583d8e7b547"
      },
      "source": [
        "df_train = df_train[df_train.sentiment != \"conflict\"]\n",
        "df_test = df_test[df_test.sentiment != \"conflict\"]\n",
        "\n",
        "print(\"Training data shape: \",df_train.shape) \n",
        "print(\"Testing data shape: \", df_test.shape)"
      ],
      "execution_count": null,
      "outputs": [
        {
          "output_type": "stream",
          "text": [
            "Training data shape:  (3239, 2)\n",
            "Testing data shape:  (1044, 2)\n"
          ],
          "name": "stdout"
        }
      ]
    },
    {
      "cell_type": "code",
      "metadata": {
        "colab": {
          "base_uri": "https://localhost:8080/",
          "height": 354
        },
        "id": "aPU93z3WUqXH",
        "outputId": "54c450af-2370-46c1-f4d4-f5fe27b6e163"
      },
      "source": [
        "df_train[0:10]"
      ],
      "execution_count": null,
      "outputs": [
        {
          "output_type": "execute_result",
          "data": {
            "text/html": [
              "<div>\n",
              "<style scoped>\n",
              "    .dataframe tbody tr th:only-of-type {\n",
              "        vertical-align: middle;\n",
              "    }\n",
              "\n",
              "    .dataframe tbody tr th {\n",
              "        vertical-align: top;\n",
              "    }\n",
              "\n",
              "    .dataframe thead th {\n",
              "        text-align: right;\n",
              "    }\n",
              "</style>\n",
              "<table border=\"1\" class=\"dataframe\">\n",
              "  <thead>\n",
              "    <tr style=\"text-align: right;\">\n",
              "      <th></th>\n",
              "      <th>text</th>\n",
              "      <th>sentiment</th>\n",
              "    </tr>\n",
              "  </thead>\n",
              "  <tbody>\n",
              "    <tr>\n",
              "      <th>0</th>\n",
              "      <td>But staff horrible . the</td>\n",
              "      <td>negative</td>\n",
              "    </tr>\n",
              "    <tr>\n",
              "      <th>1</th>\n",
              "      <td>be , factor food but make . the was</td>\n",
              "      <td>positive</td>\n",
              "    </tr>\n",
              "    <tr>\n",
              "      <th>2</th>\n",
              "      <td>food exceptional , with 's . The</td>\n",
              "      <td>positive</td>\n",
              "    </tr>\n",
              "    <tr>\n",
              "      <th>3</th>\n",
              "      <td>kitchen a capable whip</td>\n",
              "      <td>positive</td>\n",
              "    </tr>\n",
              "    <tr>\n",
              "      <th>4</th>\n",
              "      <td>menu the</td>\n",
              "      <td>neutral</td>\n",
              "    </tr>\n",
              "    <tr>\n",
              "      <th>5</th>\n",
              "      <td>Not food , but were the outstanding</td>\n",
              "      <td>positive</td>\n",
              "    </tr>\n",
              "    <tr>\n",
              "      <th>6</th>\n",
              "      <td>perks great . little '</td>\n",
              "      <td>positive</td>\n",
              "    </tr>\n",
              "    <tr>\n",
              "      <th>7</th>\n",
              "      <td>favorite orrechiete the with</td>\n",
              "      <td>positive</td>\n",
              "    </tr>\n",
              "    <tr>\n",
              "      <th>8</th>\n",
              "      <td>( usually waiters enough the</td>\n",
              "      <td>positive</td>\n",
              "    </tr>\n",
              "    <tr>\n",
              "      <th>9</th>\n",
              "      <td>to dish in the</td>\n",
              "      <td>neutral</td>\n",
              "    </tr>\n",
              "  </tbody>\n",
              "</table>\n",
              "</div>"
            ],
            "text/plain": [
              "                                  text sentiment\n",
              "0             But staff horrible . the  negative\n",
              "1  be , factor food but make . the was  positive\n",
              "2     food exceptional , with 's . The  positive\n",
              "3               kitchen a capable whip  positive\n",
              "4                             menu the   neutral\n",
              "5  Not food , but were the outstanding  positive\n",
              "6               perks great . little '  positive\n",
              "7         favorite orrechiete the with  positive\n",
              "8         ( usually waiters enough the  positive\n",
              "9                       to dish in the   neutral"
            ]
          },
          "metadata": {
            "tags": []
          },
          "execution_count": 10
        }
      ]
    },
    {
      "cell_type": "code",
      "metadata": {
        "colab": {
          "base_uri": "https://localhost:8080/",
          "height": 354
        },
        "id": "Y-7QM2yWU5aU",
        "outputId": "753cf01b-05ca-4715-f5e3-4d57f703ffbe"
      },
      "source": [
        "df_test[0:10]"
      ],
      "execution_count": null,
      "outputs": [
        {
          "output_type": "execute_result",
          "data": {
            "text/html": [
              "<div>\n",
              "<style scoped>\n",
              "    .dataframe tbody tr th:only-of-type {\n",
              "        vertical-align: middle;\n",
              "    }\n",
              "\n",
              "    .dataframe tbody tr th {\n",
              "        vertical-align: top;\n",
              "    }\n",
              "\n",
              "    .dataframe thead th {\n",
              "        text-align: right;\n",
              "    }\n",
              "</style>\n",
              "<table border=\"1\" class=\"dataframe\">\n",
              "  <thead>\n",
              "    <tr style=\"text-align: right;\">\n",
              "      <th></th>\n",
              "      <th>text</th>\n",
              "      <th>sentiment</th>\n",
              "    </tr>\n",
              "  </thead>\n",
              "  <tbody>\n",
              "    <tr>\n",
              "      <th>0</th>\n",
              "      <td>bread notch well . The</td>\n",
              "      <td>positive</td>\n",
              "    </tr>\n",
              "    <tr>\n",
              "      <th>1</th>\n",
              "      <td>the fastest delivery in</td>\n",
              "      <td>positive</td>\n",
              "    </tr>\n",
              "    <tr>\n",
              "      <th>2</th>\n",
              "      <td>Food always fresh and hot- !</td>\n",
              "      <td>positive</td>\n",
              "    </tr>\n",
              "    <tr>\n",
              "      <th>3</th>\n",
              "      <td>that coffee OUTSTANDING the</td>\n",
              "      <td>positive</td>\n",
              "    </tr>\n",
              "    <tr>\n",
              "      <th>5</th>\n",
              "      <td>place clean , sterile . the</td>\n",
              "      <td>positive</td>\n",
              "    </tr>\n",
              "    <tr>\n",
              "      <th>6</th>\n",
              "      <td>I people at the</td>\n",
              "      <td>positive</td>\n",
              "    </tr>\n",
              "    <tr>\n",
              "      <th>7</th>\n",
              "      <td>decent Japanese</td>\n",
              "      <td>positive</td>\n",
              "    </tr>\n",
              "    <tr>\n",
              "      <th>8</th>\n",
              "      <td>BEST spicy tuna , salad .</td>\n",
              "      <td>positive</td>\n",
              "    </tr>\n",
              "    <tr>\n",
              "      <th>9</th>\n",
              "      <td>great asian</td>\n",
              "      <td>positive</td>\n",
              "    </tr>\n",
              "    <tr>\n",
              "      <th>10</th>\n",
              "      <td>the rose ( on )</td>\n",
              "      <td>positive</td>\n",
              "    </tr>\n",
              "  </tbody>\n",
              "</table>\n",
              "</div>"
            ],
            "text/plain": [
              "                            text sentiment\n",
              "0         bread notch well . The  positive\n",
              "1        the fastest delivery in  positive\n",
              "2   Food always fresh and hot- !  positive\n",
              "3    that coffee OUTSTANDING the  positive\n",
              "5    place clean , sterile . the  positive\n",
              "6                I people at the  positive\n",
              "7                decent Japanese  positive\n",
              "8      BEST spicy tuna , salad .  positive\n",
              "9                    great asian  positive\n",
              "10               the rose ( on )  positive"
            ]
          },
          "metadata": {
            "tags": []
          },
          "execution_count": 11
        }
      ]
    },
    {
      "cell_type": "markdown",
      "metadata": {
        "id": "w-CC7chW9oEk"
      },
      "source": [
        "## PREPROCESS THE DATA"
      ]
    },
    {
      "cell_type": "code",
      "metadata": {
        "id": "Sjk99fcpbJy6"
      },
      "source": [
        "# function to remove puntuation\n",
        "def remove_puntuation(text):\n",
        "    text = [word for word in text if word.isalpha()] #  remove all puntuation and numbers\n",
        "    return text \n",
        "\n",
        "# function to remove stop word from text\n",
        "def remove_stopwords(text):\n",
        "    stop_words = list(stopwords.words('english')) # store nltk stopwords\n",
        "    text = [word for word in text if not word in stop_words] \n",
        "    return text \n",
        "\n",
        "# function to perform lemmatization\n",
        "def lemmatization (text):\n",
        "    lemmatizer = stem.WordNetLemmatizer() \n",
        "    text = [lemmatizer.lemmatize(token) for token in text]\n",
        "    return text \n",
        "\n",
        "\n",
        "# function to perform text preprocessing (lemmatization and no stemming)\n",
        "def clean_corpus(text):\n",
        "    \n",
        "    text = text.lower()                # lower case  \n",
        "    token = word_tokenize(text)         # tokenise\n",
        "  \n",
        "    token = remove_stopwords(token)    # remove stopwords\n",
        "    token = remove_puntuation(token)   # remove puntuation \n",
        "    token = lemmatization(token)       # lemmatize\n",
        "\n",
        "    all_tokens = \" \".join(token)       # join all tokens\n",
        "\n",
        "    return all_tokens"
      ],
      "execution_count": null,
      "outputs": []
    },
    {
      "cell_type": "code",
      "metadata": {
        "id": "3QO38Fw2b3fK"
      },
      "source": [
        "# preprocess training data\n",
        "df_train['processed_text'] = df_train.text.apply(lambda x: clean_corpus(x))\n",
        "\n",
        "# preprocess test data\n",
        "df_test['processed_text'] = df_test.text.apply(lambda x: clean_corpus(x))"
      ],
      "execution_count": null,
      "outputs": []
    },
    {
      "cell_type": "code",
      "metadata": {
        "colab": {
          "base_uri": "https://localhost:8080/"
        },
        "id": "j4axzjWrq-mA",
        "outputId": "155ffd2e-d27b-4829-c7f1-34e0de82ea22"
      },
      "source": [
        "# remove duplicated sentences\n",
        "df_train = df_train.drop_duplicates(subset = 'processed_text' , keep = \"first\")\n",
        "df_test = df_test.drop_duplicates(subset = 'processed_text' , keep = \"first\")\n",
        "\n",
        "print(\"Training data shape: \",df_train.shape) \n",
        "print(\"Testing data shape: \", df_test.shape)"
      ],
      "execution_count": null,
      "outputs": [
        {
          "output_type": "stream",
          "text": [
            "Training data shape:  (2531, 3)\n",
            "Testing data shape:  (882, 3)\n"
          ],
          "name": "stdout"
        }
      ]
    },
    {
      "cell_type": "code",
      "metadata": {
        "colab": {
          "base_uri": "https://localhost:8080/"
        },
        "id": "ZvCg4u578ukX",
        "outputId": "5f73a27c-1415-480b-889d-1f53ce72ac5b"
      },
      "source": [
        "# remove sentences with only one word, as they do not have any sentiment description term\n",
        "length_text = []\n",
        "length_text_t = []\n",
        "\n",
        "for text in df_train['processed_text']:\n",
        "  length_text.append(len(text.split()))\n",
        "\n",
        "for text in df_test['processed_text']:\n",
        "  length_text_t.append(len(text.split()))\n",
        "\n",
        "df_train['len_text'] = length_text\n",
        "df_test['len_text'] = length_text_t\n",
        "\n",
        "df_train = df_train[df_train.len_text != 1]\n",
        "df_test = df_test[df_test.len_text != 1]\n",
        "\n",
        "print(df_train.shape)\n",
        "print(df_test.shape)"
      ],
      "execution_count": null,
      "outputs": [
        {
          "output_type": "stream",
          "text": [
            "(2136, 4)\n",
            "(691, 4)\n"
          ],
          "name": "stdout"
        }
      ]
    },
    {
      "cell_type": "code",
      "metadata": {
        "id": "PyNl-Vowkia1"
      },
      "source": [
        "df_train = df_train[['text', 'processed_text', 'len_text', 'sentiment']]\n",
        "df_test = df_test[['text', 'processed_text', 'len_text', 'sentiment']]"
      ],
      "execution_count": null,
      "outputs": []
    },
    {
      "cell_type": "code",
      "metadata": {
        "colab": {
          "base_uri": "https://localhost:8080/",
          "height": 354
        },
        "id": "K95Lm1gGrTPk",
        "outputId": "91db0b42-00b7-4418-d13d-70dae44c46f7"
      },
      "source": [
        "df_train[0:10]"
      ],
      "execution_count": null,
      "outputs": [
        {
          "output_type": "execute_result",
          "data": {
            "text/html": [
              "<div>\n",
              "<style scoped>\n",
              "    .dataframe tbody tr th:only-of-type {\n",
              "        vertical-align: middle;\n",
              "    }\n",
              "\n",
              "    .dataframe tbody tr th {\n",
              "        vertical-align: top;\n",
              "    }\n",
              "\n",
              "    .dataframe thead th {\n",
              "        text-align: right;\n",
              "    }\n",
              "</style>\n",
              "<table border=\"1\" class=\"dataframe\">\n",
              "  <thead>\n",
              "    <tr style=\"text-align: right;\">\n",
              "      <th></th>\n",
              "      <th>text</th>\n",
              "      <th>processed_text</th>\n",
              "      <th>len_text</th>\n",
              "      <th>sentiment</th>\n",
              "    </tr>\n",
              "  </thead>\n",
              "  <tbody>\n",
              "    <tr>\n",
              "      <th>0</th>\n",
              "      <td>But staff horrible . the</td>\n",
              "      <td>staff horrible</td>\n",
              "      <td>2</td>\n",
              "      <td>negative</td>\n",
              "    </tr>\n",
              "    <tr>\n",
              "      <th>1</th>\n",
              "      <td>be , factor food but make . the was</td>\n",
              "      <td>factor food make</td>\n",
              "      <td>3</td>\n",
              "      <td>positive</td>\n",
              "    </tr>\n",
              "    <tr>\n",
              "      <th>2</th>\n",
              "      <td>food exceptional , with 's . The</td>\n",
              "      <td>food exceptional</td>\n",
              "      <td>2</td>\n",
              "      <td>positive</td>\n",
              "    </tr>\n",
              "    <tr>\n",
              "      <th>3</th>\n",
              "      <td>kitchen a capable whip</td>\n",
              "      <td>kitchen capable whip</td>\n",
              "      <td>3</td>\n",
              "      <td>positive</td>\n",
              "    </tr>\n",
              "    <tr>\n",
              "      <th>5</th>\n",
              "      <td>Not food , but were the outstanding</td>\n",
              "      <td>food outstanding</td>\n",
              "      <td>2</td>\n",
              "      <td>positive</td>\n",
              "    </tr>\n",
              "    <tr>\n",
              "      <th>6</th>\n",
              "      <td>perks great . little '</td>\n",
              "      <td>perk great little</td>\n",
              "      <td>3</td>\n",
              "      <td>positive</td>\n",
              "    </tr>\n",
              "    <tr>\n",
              "      <th>7</th>\n",
              "      <td>favorite orrechiete the with</td>\n",
              "      <td>favorite orrechiete</td>\n",
              "      <td>2</td>\n",
              "      <td>positive</td>\n",
              "    </tr>\n",
              "    <tr>\n",
              "      <th>8</th>\n",
              "      <td>( usually waiters enough the</td>\n",
              "      <td>usually waiter enough</td>\n",
              "      <td>3</td>\n",
              "      <td>positive</td>\n",
              "    </tr>\n",
              "    <tr>\n",
              "      <th>11</th>\n",
              "      <td>Bagels taste , gummy . The</td>\n",
              "      <td>bagel taste gummy</td>\n",
              "      <td>3</td>\n",
              "      <td>positive</td>\n",
              "    </tr>\n",
              "    <tr>\n",
              "      <th>12</th>\n",
              "      <td>Nevertheless food good . the itself</td>\n",
              "      <td>nevertheless food good</td>\n",
              "      <td>3</td>\n",
              "      <td>positive</td>\n",
              "    </tr>\n",
              "  </tbody>\n",
              "</table>\n",
              "</div>"
            ],
            "text/plain": [
              "                                   text  ... sentiment\n",
              "0              But staff horrible . the  ...  negative\n",
              "1   be , factor food but make . the was  ...  positive\n",
              "2      food exceptional , with 's . The  ...  positive\n",
              "3                kitchen a capable whip  ...  positive\n",
              "5   Not food , but were the outstanding  ...  positive\n",
              "6                perks great . little '  ...  positive\n",
              "7          favorite orrechiete the with  ...  positive\n",
              "8          ( usually waiters enough the  ...  positive\n",
              "11           Bagels taste , gummy . The  ...  positive\n",
              "12  Nevertheless food good . the itself  ...  positive\n",
              "\n",
              "[10 rows x 4 columns]"
            ]
          },
          "metadata": {
            "tags": []
          },
          "execution_count": 17
        }
      ]
    },
    {
      "cell_type": "code",
      "metadata": {
        "colab": {
          "base_uri": "https://localhost:8080/",
          "height": 354
        },
        "id": "vutR405s50Mo",
        "outputId": "7cea1a2c-5f06-4437-b94b-4135c84b1700"
      },
      "source": [
        "df_test[0:10]"
      ],
      "execution_count": null,
      "outputs": [
        {
          "output_type": "execute_result",
          "data": {
            "text/html": [
              "<div>\n",
              "<style scoped>\n",
              "    .dataframe tbody tr th:only-of-type {\n",
              "        vertical-align: middle;\n",
              "    }\n",
              "\n",
              "    .dataframe tbody tr th {\n",
              "        vertical-align: top;\n",
              "    }\n",
              "\n",
              "    .dataframe thead th {\n",
              "        text-align: right;\n",
              "    }\n",
              "</style>\n",
              "<table border=\"1\" class=\"dataframe\">\n",
              "  <thead>\n",
              "    <tr style=\"text-align: right;\">\n",
              "      <th></th>\n",
              "      <th>text</th>\n",
              "      <th>processed_text</th>\n",
              "      <th>len_text</th>\n",
              "      <th>sentiment</th>\n",
              "    </tr>\n",
              "  </thead>\n",
              "  <tbody>\n",
              "    <tr>\n",
              "      <th>0</th>\n",
              "      <td>bread notch well . The</td>\n",
              "      <td>bread notch well</td>\n",
              "      <td>3</td>\n",
              "      <td>positive</td>\n",
              "    </tr>\n",
              "    <tr>\n",
              "      <th>1</th>\n",
              "      <td>the fastest delivery in</td>\n",
              "      <td>fastest delivery</td>\n",
              "      <td>2</td>\n",
              "      <td>positive</td>\n",
              "    </tr>\n",
              "    <tr>\n",
              "      <th>2</th>\n",
              "      <td>Food always fresh and hot- !</td>\n",
              "      <td>food always fresh</td>\n",
              "      <td>3</td>\n",
              "      <td>positive</td>\n",
              "    </tr>\n",
              "    <tr>\n",
              "      <th>3</th>\n",
              "      <td>that coffee OUTSTANDING the</td>\n",
              "      <td>coffee outstanding</td>\n",
              "      <td>2</td>\n",
              "      <td>positive</td>\n",
              "    </tr>\n",
              "    <tr>\n",
              "      <th>5</th>\n",
              "      <td>place clean , sterile . the</td>\n",
              "      <td>place clean sterile</td>\n",
              "      <td>3</td>\n",
              "      <td>positive</td>\n",
              "    </tr>\n",
              "    <tr>\n",
              "      <th>7</th>\n",
              "      <td>decent Japanese</td>\n",
              "      <td>decent japanese</td>\n",
              "      <td>2</td>\n",
              "      <td>positive</td>\n",
              "    </tr>\n",
              "    <tr>\n",
              "      <th>8</th>\n",
              "      <td>BEST spicy tuna , salad .</td>\n",
              "      <td>best spicy tuna salad</td>\n",
              "      <td>4</td>\n",
              "      <td>positive</td>\n",
              "    </tr>\n",
              "    <tr>\n",
              "      <th>9</th>\n",
              "      <td>great asian</td>\n",
              "      <td>great asian</td>\n",
              "      <td>2</td>\n",
              "      <td>positive</td>\n",
              "    </tr>\n",
              "    <tr>\n",
              "      <th>12</th>\n",
              "      <td>I drinks is the , martini</td>\n",
              "      <td>drink martini</td>\n",
              "      <td>2</td>\n",
              "      <td>positive</td>\n",
              "    </tr>\n",
              "    <tr>\n",
              "      <th>13</th>\n",
              "      <td>esp lychee , and</td>\n",
              "      <td>esp lychee</td>\n",
              "      <td>2</td>\n",
              "      <td>positive</td>\n",
              "    </tr>\n",
              "  </tbody>\n",
              "</table>\n",
              "</div>"
            ],
            "text/plain": [
              "                            text         processed_text  len_text sentiment\n",
              "0         bread notch well . The       bread notch well         3  positive\n",
              "1        the fastest delivery in       fastest delivery         2  positive\n",
              "2   Food always fresh and hot- !      food always fresh         3  positive\n",
              "3    that coffee OUTSTANDING the     coffee outstanding         2  positive\n",
              "5    place clean , sterile . the    place clean sterile         3  positive\n",
              "7                decent Japanese        decent japanese         2  positive\n",
              "8      BEST spicy tuna , salad .  best spicy tuna salad         4  positive\n",
              "9                    great asian            great asian         2  positive\n",
              "12     I drinks is the , martini          drink martini         2  positive\n",
              "13              esp lychee , and             esp lychee         2  positive"
            ]
          },
          "metadata": {
            "tags": []
          },
          "execution_count": 18
        }
      ]
    },
    {
      "cell_type": "code",
      "metadata": {
        "id": "bkePbQ_xcIHM"
      },
      "source": [
        "# function to get word count of a dataset\n",
        "def word_count(dataset):\n",
        "    \n",
        "    unique_words = [] \n",
        "    \n",
        "    for row in dataset:\n",
        "        for word in row.split(\" \"):\n",
        "            if len(word) > 2 and word not in unique_words:\n",
        "                unique_words.append(word) # Add each unique word of length > 2 to the list\n",
        "            \n",
        "    unique_words.sort()\n",
        "    vocab = {j:i for i,j in enumerate(unique_words)} # Enumerate the list, i.e., give consecutive numbers to each item, store in a dict\n",
        "    return vocab"
      ],
      "execution_count": null,
      "outputs": []
    },
    {
      "cell_type": "code",
      "metadata": {
        "id": "s6ytjIlAcWCG",
        "colab": {
          "base_uri": "https://localhost:8080/"
        },
        "outputId": "e3aa241d-73a9-4dd3-d57c-8cf0fa3b71b8"
      },
      "source": [
        "#total number of unique words in training set\n",
        "unique_words_ques2 = word_count(df_train['processed_text'])\n",
        "print(\"Number of unique words in processed training text: \",len(unique_words_ques2))  \n",
        "\n",
        "unique_words_ = word_count(df_train['text'])\n",
        "print(\"Number of unique words in original training text: \",len(unique_words_))   "
      ],
      "execution_count": null,
      "outputs": [
        {
          "output_type": "stream",
          "text": [
            "Number of unique words in processed training text:  1521\n",
            "Number of unique words in original training text:  1931\n"
          ],
          "name": "stdout"
        }
      ]
    },
    {
      "cell_type": "code",
      "metadata": {
        "colab": {
          "base_uri": "https://localhost:8080/",
          "height": 307
        },
        "id": "jEY1TDBNv8-D",
        "outputId": "d997344e-dd7a-43e8-da59-b528a9151fe5"
      },
      "source": [
        "# plot distribution of label in training data\n",
        "df_train['sentiment'].hist(edgecolor = 'black',bins=5,facecolor = 'teal')\n",
        "plt.suptitle(\"Histogram for Labels\",size = 14)\n",
        "plt.xlabel(\"Label\")\n",
        "plt.ylabel(\"Number of reviews\")\n",
        "plt.show()"
      ],
      "execution_count": null,
      "outputs": [
        {
          "output_type": "display_data",
          "data": {
            "image/png": "[encoded data removed]",
            "text/plain": [
              "<Figure size 432x288 with 1 Axes>"
            ]
          },
          "metadata": {
            "tags": [],
            "needs_background": "light"
          }
        }
      ]
    },
    {
      "cell_type": "code",
      "metadata": {
        "colab": {
          "base_uri": "https://localhost:8080/",
          "height": 307
        },
        "id": "U3WXhVs0wTD0",
        "outputId": "46351f2b-c803-48c0-aa34-8875a2c7376a"
      },
      "source": [
        "# plot distribution of label in test data\n",
        "df_test['sentiment'].hist(edgecolor = 'black',bins=5,facecolor = 'teal')\n",
        "plt.suptitle(\"Histogram for Labels\",size = 14)\n",
        "plt.xlabel(\"Label\")\n",
        "plt.ylabel(\"Number of reviews\")\n",
        "plt.show()"
      ],
      "execution_count": null,
      "outputs": [
        {
          "output_type": "display_data",
          "data": {
            "image/png": "[encoded data removed]",
            "text/plain": [
              "<Figure size 432x288 with 1 Axes>"
            ]
          },
          "metadata": {
            "tags": [],
            "needs_background": "light"
          }
        }
      ]
    },
    {
      "cell_type": "markdown",
      "metadata": {
        "id": "nMChzCyu17ZA"
      },
      "source": [
        "## TFIDF AND SOME CLASSIFIERS (Logistic Regression, Multinomial Naive Bayes & Support Vector Classifier)"
      ]
    },
    {
      "cell_type": "code",
      "metadata": {
        "id": "3LksgE2ogiAL"
      },
      "source": [
        "y_test = df_test['sentiment']"
      ],
      "execution_count": null,
      "outputs": []
    },
    {
      "cell_type": "markdown",
      "metadata": {
        "id": "x1rsW6zF8n6f"
      },
      "source": [
        "- TFIDF"
      ]
    },
    {
      "cell_type": "code",
      "metadata": {
        "id": "pxjzTs_vcdU-",
        "colab": {
          "base_uri": "https://localhost:8080/"
        },
        "outputId": "69998719-3131-4b03-bf72-89e5e76b3dcb"
      },
      "source": [
        "# TF-IDF transformation\n",
        "vectorizer = TfidfVectorizer()\n",
        "vectorizer.fit(df_train['processed_text'])\n",
        "\n",
        "x_train_tfidf = vectorizer.transform(df_train['processed_text'])\n",
        "x_test_tfidf = vectorizer.transform(df_test['processed_text'])\n",
        "\n",
        "print(vectorizer.get_feature_names())\n",
        "\n",
        "print(\"Training feature shape\", x_train_tfidf.shape)\n",
        "print(\"Testing feature shape\", x_test_tfidf .shape)"
      ],
      "execution_count": null,
      "outputs": [
        {
          "output_type": "stream",
          "text": [
            "['aanother', 'absolutely', 'ac', 'accomodate', 'accomodating', 'accompaniment', 'actor', 'actually', 'add', 'added', 'addition', 'additional', 'adequate', 'adopted', 'adventurous', 'advice', 'aesthetic', 'affected', 'affordable', 'afortune', 'ago', 'agreable', 'ahead', 'air', 'ala', 'alain', 'allow', 'alluring', 'almost', 'alone', 'along', 'also', 'although', 'always', 'amanzing', 'amazin', 'amazing', 'ambiance', 'ambience', 'ambitious', 'american', 'americanized', 'amiable', 'amid', 'among', 'amount', 'amuse', 'angry', 'annoying', 'annual', 'another', 'antipasti', 'anything', 'anyway', 'anywhere', 'apart', 'apology', 'app', 'apparently', 'appealing', 'appetizer', 'appetizing', 'apple', 'appointment', 'apps', 'ar', 'architecture', 'area', 'around', 'arrived', 'as', 'asian', 'aside', 'ask', 'asked', 'assorted', 'assortment', 'ate', 'atlhough', 'atmosphere', 'atomosphere', 'atrocious', 'attend', 'attentive', 'attest', 'attitude', 'attract', 'attraction', 'attractive', 'au', 'aunthentic', 'authentic', 'authentically', 'available', 'average', 'avocado', 'away', 'aweful', 'awesome', 'awful', 'awsome', 'back', 'bacon', 'bacos', 'bad', 'bagel', 'bagles', 'baked', 'baluchi', 'bar', 'bartender', 'basic', 'basically', 'basil', 'basketful', 'basmati', 'bass', 'bathroom', 'bbq', 'bean', 'beat', 'beatiful', 'beautiful', 'beef', 'beer', 'beginning', 'behind', 'berate', 'besides', 'best', 'better', 'beverage', 'beyond', 'bhelpuri', 'big', 'bill', 'bindi', 'birthday', 'bistro', 'bit', 'bitter', 'black', 'blah', 'bland', 'blantently', 'blend', 'blond', 'blue', 'bombay', 'boring', 'botle', 'boton', 'bottle', 'box', 'boxed', 'boyfriend', 'brassiere', 'bread', 'breathe', 'brilliant', 'bring', 'brings', 'broth', 'brulee', 'brunch', 'bruscetta', 'bruschetta', 'bruschettas', 'buffet', 'building', 'bummer', 'bun', 'burger', 'burnt', 'business', 'bustling', 'busy', 'butter', 'buttery', 'ca', 'cabaret', 'cafe', 'cake', 'cakebread', 'calamari', 'call', 'called', 'calm', 'calzones', 'came', 'candle', 'candlevery', 'canned', 'cannoli', 'capable', 'caprese', 'care', 'cared', 'carte', 'case', 'caserole', 'casual', 'caviar', 'ceiling', 'certain', 'certainly', 'ceviche', 'chaat', 'chaats', 'chai', 'champagne', 'chance', 'changed', 'changing', 'character', 'charge', 'charged', 'charming', 'cheap', 'cheapest', 'check', 'checked', 'cheescake', 'cheese', 'cheeseburger', 'chef', 'chic', 'chicken', 'chilean', 'chill', 'chilled', 'chinese', 'chip', 'chocolate', 'choice', 'chole', 'chongqing', 'choose', 'chop', 'chopped', 'chosen', 'christmas', 'cigar', 'city', 'claimed', 'clam', 'class', 'classic', 'classical', 'classy', 'clean', 'cleaned', 'clear', 'clearly', 'client', 'closely', 'closing', 'club', 'clubhouse', 'clumsy', 'coat', 'cobb', 'cocktail', 'cod', 'coem', 'coffee', 'coke', 'cold', 'cole', 'colorful', 'combination', 'come', 'comfort', 'comfortable', 'comforting', 'coming', 'common', 'companion', 'company', 'comparable', 'compared', 'compensate', 'competent', 'complain', 'complementary', 'completely', 'complimentary', 'comprised', 'congee', 'consequently', 'consider', 'considering', 'consisent', 'consistant', 'consisted', 'consistent', 'consistently', 'consomme', 'container', 'convenient', 'conveniently', 'conversation', 'cook', 'cooked', 'cooking', 'cool', 'corned', 'corner', 'correct', 'corridor', 'cosmopolitan', 'cost', 'could', 'counter', 'couple', 'course', 'courteous', 'cover', 'cozy', 'crab', 'crackling', 'crammed', 'cramped', 'crappy', 'cream', 'creative', 'crew', 'crispy', 'crowd', 'crowded', 'crust', 'crusted', 'cube', 'cuisine', 'curry', 'customer', 'cute', 'dainty', 'dal', 'dance', 'dark', 'date', 'day', 'dazzling', 'de', 'deal', 'decent', 'decor', 'deep', 'deff', 'definitely', 'delcious', 'deli', 'delicate', 'delicious', 'delicous', 'delightful', 'deliver', 'delivered', 'delivery', 'descent', 'described', 'desert', 'deserve', 'deserves', 'design', 'despite', 'dessert', 'devine', 'dhal', 'dhosas', 'diamond', 'different', 'dim', 'dimsum', 'dine', 'diner', 'dining', 'dinner', 'dinosaur', 'disapointing', 'disappointed', 'disappointing', 'disappointment', 'dish', 'disney', 'display', 'dissapointing', 'diverse', 'dollar', 'done', 'donut', 'door', 'dosas', 'dough', 'doughy', 'downside', 'drafty', 'drawback', 'dress', 'dressed', 'drink', 'drinking', 'drunken', 'dry', 'duck', 'dulce', 'dumpling', 'early', 'ease', 'easily', 'east', 'easy', 'eat', 'eaten', 'eating', 'eats', 'eel', 'efficiently', 'egg', 'eggplant', 'either', 'elegant', 'embracing', 'employee', 'empty', 'encouraged', 'ended', 'england', 'english', 'enjoy', 'enjoyable', 'enjoyed', 'enjoying', 'enough', 'entertainment', 'enthusiastic', 'entire', 'entree', 'environment', 'escargot', 'esp', 'especially', 'espresso', 'establishment', 'etc', 'ethnic', 'even', 'ever', 'every', 'everything', 'everywhere', 'evil', 'ew', 'example', 'excellent', 'except', 'exceptional', 'exciting', 'existant', 'exorbitant', 'exotic', 'expanded', 'expect', 'expectation', 'expected', 'expecting', 'expensive', 'experiance', 'experience', 'explained', 'expresso', 'extensive', 'extra', 'extraordinary', 'fabulous', 'faced', 'fact', 'factor', 'fair', 'faired', 'fairly', 'fake', 'fallback', 'family', 'famous', 'fan', 'fancy', 'fantastic', 'far', 'fare', 'fast', 'fastest', 'fatty', 'favorite', 'favourite', 'feat', 'feature', 'featuring', 'feel', 'feeling', 'felt', 'fiance', 'filet', 'fill', 'filled', 'fillet', 'filling', 'finally', 'find', 'fine', 'finish', 'finished', 'first', 'fish', 'five', 'fixe', 'flashy', 'flavor', 'flavorless', 'flour', 'flower', 'flowing', 'fondue', 'food', 'forever', 'forget', 'forgettable', 'forgiven', 'forgot', 'four', 'francois', 'free', 'french', 'frequently', 'fresh', 'fresher', 'freshest', 'freshness', 'freshwater', 'fried', 'friend', 'friendlier', 'friendliest', 'friendly', 'frites', 'fromager', 'frozen', 'fruit', 'fry', 'full', 'fully', 'fun', 'funky', 'furthermore', 'fusion', 'garden', 'garlic', 'gaskin', 'gave', 'general', 'generation', 'generic', 'genuinely', 'get', 'getting', 'ghetto', 'gigantic', 'gigondas', 'gimmick', 'gin', 'ginger', 'girl', 'give', 'given', 'glass', 'glazed', 'glorified', 'gnochi', 'go', 'goat', 'godmother', 'going', 'good', 'gorgeous', 'got', 'grab', 'grace', 'gracious', 'grade', 'grape', 'grass', 'great', 'greatest', 'greatly', 'green', 'greet', 'greeted', 'gret', 'grilled', 'group', 'growing', 'guest', 'guided', 'guizhou', 'gulab', 'gummy', 'guy', 'half', 'halibut', 'hall', 'hang', 'hangout', 'happy', 'hardcore', 'haru', 'healthy', 'heaped', 'heart', 'hearty', 'heated', 'heavy', 'held', 'help', 'helpful', 'herb', 'hey', 'hidden', 'high', 'higher', 'highlight', 'highlighting', 'hip', 'hissed', 'hit', 'hold', 'holding', 'homemade', 'honestly', 'hoped', 'horedevous', 'horrendous', 'horrible', 'horrific', 'hospitable', 'host', 'hostess', 'hosting', 'hot', 'hottest', 'hour', 'house', 'however', 'huge', 'humble', 'hurt', 'husband', 'ice', 'icing', 'icy', 'idea', 'ie', 'ignore', 'ignored', 'imagination', 'immediately', 'impecable', 'impeccable', 'impecible', 'important', 'importantly', 'imported', 'imposing', 'impress', 'impressive', 'include', 'included', 'including', 'incompetent', 'inconsistency', 'inconsistent', 'incredible', 'indian', 'indoor', 'inedible', 'inexpensive', 'infused', 'ingrediants', 'ingredient', 'innovative', 'inside', 'inspired', 'instead', 'integral', 'interesting', 'interior', 'intimate', 'intitally', 'inventive', 'ish', 'italian', 'item', 'itsuperb', 'izakaya', 'japanese', 'jason', 'jazz', 'jelly', 'juice', 'juicy', 'jukebox', 'kalbi', 'kamasutra', 'kamikaze', 'kebab', 'keep', 'keeping', 'kenny', 'kielbasa', 'kind', 'kinda', 'kitchen', 'knish', 'know', 'knowledge', 'knowledgeable', 'known', 'korma', 'kruno', 'lack', 'lacking', 'lad', 'lady', 'lamb', 'lambchop', 'large', 'larger', 'largest', 'lassi', 'late', 'lava', 'lawn', 'laying', 'le', 'leaf', 'leaping', 'least', 'leave', 'leche', 'left', 'leftover', 'lemon', 'let', 'lettuce', 'ley', 'lie', 'life', 'light', 'like', 'lime', 'limited', 'line', 'list', 'lit', 'little', 'live', 'loaded', 'lobby', 'lobster', 'local', 'location', 'loin', 'long', 'look', 'looked', 'looking', 'lot', 'lotus', 'loud', 'lousy', 'love', 'lovely', 'lover', 'low', 'lox', 'lt', 'lunch', 'lyle', 'made', 'magnificant', 'mahi', 'mai', 'main', 'make', 'makhani', 'mamoun', 'man', 'management', 'manager', 'manna', 'mannered', 'many', 'margarita', 'margarite', 'margheritta', 'martini', 'masaman', 'mashed', 'match', 'matter', 'may', 'maybe', 'mayo', 'mayonaisse', 'mayonnaise', 'maze', 'meal', 'meanwhile', 'measure', 'meat', 'meatball', 'mediocre', 'mediterranean', 'medium', 'mein', 'melted', 'member', 'memorable', 'mention', 'mentioned', 'menu', 'mesclun', 'metrazur', 'might', 'mignon', 'mild', 'mill', 'mimosa', 'mind', 'mini', 'minimal', 'minimalist', 'minute', 'mix', 'mixed', 'moderate', 'modern', 'money', 'mortal', 'mostly', 'moules', 'mozz', 'mozzarella', 'mozzerella', 'msg', 'much', 'mud', 'mulino', 'mushroom', 'music', 'mussaman', 'mussel', 'must', 'myriad', 'naan', 'name', 'narrow', 'nasty', 'neapolitan', 'nearby', 'nearing', 'nebbiolo', 'neighborhood', 'never', 'nevertheless', 'new', 'next', 'nice', 'nicest', 'night', 'nightcap', 'nigiri', 'nina', 'nite', 'noir', 'noise', 'noisy', 'nonchalant', 'nonsense', 'noodle', 'nori', 'nosh', 'notch', 'nothing', 'nyc', 'oatmeal', 'obnoxious', 'obv', 'obviously', 'odd', 'offer', 'offered', 'offeres', 'offering', 'often', 'oil', 'oily', 'ok', 'okay', 'okra', 'old', 'olive', 'omelletes', 'one', 'onglet', 'onion', 'oozing', 'open', 'opened', 'opening', 'opposite', 'order', 'ordered', 'ordering', 'organic', 'orrechiete', 'ot', 'otherwise', 'otherworldly', 'outdoor', 'outragous', 'outshine', 'outside', 'outstanding', 'overall', 'overbearing', 'overcooked', 'overdone', 'overdue', 'overlooking', 'overpowering', 'overpriced', 'overwhelmed', 'ow', 'owner', 'oyster', 'oz', 'pack', 'packed', 'pad', 'page', 'paid', 'painted', 'pakistani', 'palate', 'panchetta', 'panini', 'paratha', 'parathas', 'parched', 'parmigana', 'part', 'passed', 'pasta', 'pastrami', 'pastry', 'pathetic', 'patient', 'patio', 'pay', 'peaceful', 'pelligrino', 'people', 'pepper', 'per', 'percent', 'perfect', 'perk', 'person', 'personally', 'pesto', 'peter', 'phenomenal', 'pho', 'phone', 'photobook', 'pick', 'pickels', 'pickle', 'picture', 'pie', 'piece', 'piled', 'pink', 'piped', 'piping', 'pistachio', 'pita', 'pizza', 'pizzeria', 'place', 'plain', 'plate', 'platter', 'playing', 'pleasant', 'pleasurable', 'plentiful', 'plenty', 'plus', 'point', 'poivre', 'poor', 'poorly', 'popcorn', 'popular', 'porcini', 'pork', 'portioins', 'portion', 'portrait', 'pot', 'potato', 'potential', 'pound', 'pour', 'poured', 'precise', 'precisely', 'premium', 'prepared', 'present', 'presentaion', 'presentation', 'presented', 'pretty', 'previous', 'price', 'priced', 'pricey', 'prime', 'primo', 'prior', 'privacy', 'prix', 'probably', 'proceeded', 'professional', 'promised', 'prompt', 'promptly', 'proper', 'proportioned', 'proprietor', 'pub', 'pudding', 'puff', 'puke', 'pulled', 'put', 'quail', 'quality', 'quantity', 'quick', 'quickly', 'quiet', 'quite', 'raddichio', 'rao', 'rarity', 'rasamalai', 'raucus', 'ravioli', 'raw', 'ready', 'real', 'reallocating', 'really', 'reasonable', 'reasonably', 'received', 'recently', 'recommend', 'red', 'refined', 'refleshment', 'refreshing', 'regular', 'rejoice', 'relax', 'relaxed', 'relaxing', 'reliable', 'remained', 'remember', 'replaced', 'reputation', 'requested', 'resembled', 'reservation', 'rest', 'restaurant', 'return', 'reuben', 'review', 'rice', 'rich', 'ridding', 'right', 'ripped', 'roast', 'roasted', 'roll', 'romantic', 'room', 'root', 'rose', 'roth', 'roti', 'round', 'rude', 'run', 'running', 'rush', 'rushed', 'rushing', 'rye', 'said', 'sake', 'salad', 'salmon', 'salty', 'samosa', 'sampler', 'sampling', 'sandwich', 'sangria', 'sapphire', 'sara', 'sardine', 'sashimi', 'sat', 'sauce', 'saul', 'save', 'saving', 'saw', 'say', 'scallion', 'scallop', 'scatty', 'scene', 'scenery', 'scent', 'scrumptious', 'se', 'sea', 'seafood', 'seasonal', 'seasoning', 'seat', 'seated', 'seating', 'second', 'secondo', 'secret', 'see', 'seem', 'seen', 'selecion', 'selection', 'sell', 'sensual', 'sent', 'serf', 'serious', 'servant', 'serve', 'served', 'server', 'service', 'serving', 'set', 'setting', 'seved', 'several', 'sevpuri', 'shabu', 'shanghai', 'share', 'sharing', 'shell', 'shining', 'short', 'shout', 'show', 'showed', 'shredded', 'shrimp', 'shut', 'sichuan', 'sicilian', 'side', 'sign', 'similar', 'similarly', 'simple', 'simply', 'since', 'singapore', 'sit', 'sitting', 'size', 'sized', 'sketchy', 'skimp', 'skimpy', 'slaw', 'sleek', 'slice', 'sliced', 'slighly', 'slightly', 'slow', 'small', 'smaller', 'smile', 'smoked', 'snacking', 'snobby', 'soft', 'soggy', 'solid', 'someone', 'something', 'sometimes', 'sommelier', 'sommlier', 'somosas', 'son', 'soon', 'sort', 'sound', 'soup', 'sour', 'south', 'southern', 'soy', 'space', 'spaghetti', 'spare', 'speak', 'speaking', 'special', 'specialty', 'specjal', 'spectacular', 'speedy', 'spend', 'spent', 'spice', 'spiced', 'spicy', 'spilled', 'spinach', 'split', 'spot', 'spotty', 'spread', 'spring', 'sprinkled', 'square', 'squid', 'staff', 'stale', 'standard', 'staple', 'star', 'start', 'started', 'starter', 'stauff', 'stay', 'steak', 'steep', 'steven', 'stick', 'still', 'stir', 'stocked', 'stomach', 'straight', 'strawberry', 'strict', 'strike', 'strong', 'stuff', 'stuffing', 'style', 'styled', 'subpar', 'substantial', 'subtle', 'succulent', 'suggested', 'suggestion', 'sum', 'summer', 'sunken', 'super', 'superb', 'suppose', 'supposed', 'sure', 'surprise', 'surprising', 'surrounding', 'sushi', 'svc', 'sweet', 'swirl', 'swordfish', 'table', 'tail', 'taiwanese', 'take', 'takeout', 'tal', 'talk', 'tandoori', 'tank', 'tao', 'tapa', 'tarte', 'taste', 'tasted', 'tastier', 'tasting', 'tasty', 'tea', 'teapot', 'technique', 'tell', 'tempura', 'tender', 'tends', 'term', 'terrace', 'terrible', 'terrific', 'test', 'texture', 'thai', 'thali', 'thank', 'theatre', 'thh', 'thier', 'thin', 'thing', 'thinking', 'thinner', 'third', 'thoroughly', 'though', 'thought', 'three', 'tight', 'tikka', 'tiled', 'till', 'time', 'timely', 'tiny', 'tip', 'tiramisu', 'toast', 'toaster', 'today', 'tofu', 'together', 'told', 'tom', 'tomato', 'ton', 'tone', 'tonic', 'took', 'top', 'topping', 'torro', 'total', 'totally', 'touch', 'toward', 'tower', 'tradional', 'traditional', 'traffic', 'trained', 'tramezzinis', 'translucent', 'treasure', 'treated', 'treatment', 'trendy', 'tried', 'trout', 'truly', 'try', 'trying', 'tuesday', 'tuna', 'turn', 'turned', 'turnip', 'twice', 'two', 'type', 'typical', 'udon', 'ultra', 'unable', 'unaccommodating', 'unattentive', 'unavailable', 'uncomfortable', 'unconventional', 'unda', 'undercooked', 'understated', 'understood', 'unforgetable', 'unfortunately', 'unfriendly', 'unheralded', 'unique', 'unisex', 'unless', 'unlike', 'unlimited', 'unobtrusive', 'unpretensious', 'unremarkable', 'upper', 'upscale', 'upstairs', 'use', 'used', 'usher', 'using', 'usual', 'usually', 'valentine', 'value', 'variety', 'various', 'veal', 'vegetable', 'vegetarian', 'vegtables', 'version', 'vibe', 'vibrant', 'view', 'virgnin', 'visit', 'visiting', 'vittorio', 'voluminous', 'wait', 'waited', 'waiter', 'waiting', 'waitress', 'waitstaff', 'walked', 'walking', 'wall', 'wallet', 'walnut', 'want', 'wanted', 'warm', 'warmed', 'wasabi', 'water', 'waterbugs', 'watering', 'watery', 'way', 'weekday', 'weekend', 'well', 'went', 'whatsoever', 'whip', 'whisk', 'white', 'whole', 'wide', 'wife', 'wild', 'wine', 'winnie', 'wintermelon', 'without', 'wo', 'woman', 'wondered', 'wonderful', 'wood', 'work', 'worked', 'worker', 'working', 'worst', 'worth', 'would', 'wow', 'wrap', 'wrapped', 'written', 'wrong', 'ya', 'yeah', 'yellow', 'yellowfun', 'yellowtail', 'yes', 'yet', 'york', 'yoshi', 'young', 'yum', 'yummy', 'zen', 'ziti', 'zucchini']\n",
            "Training feature shape (2136, 1539)\n",
            "Testing feature shape (691, 1539)\n"
          ],
          "name": "stdout"
        }
      ]
    },
    {
      "cell_type": "code",
      "metadata": {
        "id": "vw6uYOe9d4lk",
        "colab": {
          "base_uri": "https://localhost:8080/"
        },
        "outputId": "74e63af2-eb47-435f-f071-6f040d3cc11d"
      },
      "source": [
        "# split training data into training and validation set\n",
        "x_train, x_valid, y_train, y_valid = train_test_split(x_train_tfidf , df_train['sentiment'], test_size=0.25, random_state=42,shuffle = True)\n",
        "\n",
        "print(x_train.shape)\n",
        "print(y_train.shape)\n",
        "print(x_valid.shape)"
      ],
      "execution_count": null,
      "outputs": [
        {
          "output_type": "stream",
          "text": [
            "(1602, 1539)\n",
            "(1602,)\n",
            "(534, 1539)\n"
          ],
          "name": "stdout"
        }
      ]
    },
    {
      "cell_type": "markdown",
      "metadata": {
        "id": "0R-ZMuC2uSVZ"
      },
      "source": [
        "- GRID SEARCH"
      ]
    },
    {
      "cell_type": "code",
      "metadata": {
        "id": "0xcn3UbKuMP0"
      },
      "source": [
        "# function to perform grid search for some_parameters \n",
        "def doGridSearch(model, some_parameters):\n",
        "\n",
        "  cv = StratifiedKFold(n_splits=5, random_state=42, shuffle = True)\n",
        "  search = GridSearchCV(model, some_parameters, scoring='accuracy', n_jobs=-1, cv=cv)\n",
        "\n",
        "  result = search.fit(x_train, y_train)\n",
        "\n",
        "  # print summary\n",
        "  print('Best Score: %s' % result.best_score_)\n",
        "  print('Best Hyperparameters: %s' % result.best_params_)\n",
        "  print()\n",
        "\n",
        "  means = result.cv_results_['mean_test_score']\n",
        "  stds = result.cv_results_['std_test_score']\n",
        "\n",
        "  for mean, std, params in zip(means, stds, result.cv_results_['params']):\n",
        "    print(\"%0.3f (+/-%0.03f) for %r\"% (mean, std * 2, params))"
      ],
      "execution_count": null,
      "outputs": []
    },
    {
      "cell_type": "markdown",
      "metadata": {
        "id": "gIG4MCY28uq6"
      },
      "source": [
        "- LOGISTIC REGRESSION"
      ]
    },
    {
      "cell_type": "code",
      "metadata": {
        "id": "r0Af7FDq9CeQ",
        "colab": {
          "base_uri": "https://localhost:8080/"
        },
        "outputId": "1effaf1e-b37d-478e-e839-584a6a56c1b3"
      },
      "source": [
        "logisticreg =  LogisticRegression(multi_class='multinomial')\n",
        "\n",
        "parameters = {'solver':  ['lbfgs','newton-cg' , 'sag','saga'] ,  'C': [0.01,0.1,0.5,1.0,1.5], 'tol':[0.0001,0.001, 0.01,0.1]}\n",
        "doGridSearch(logisticreg, parameters)"
      ],
      "execution_count": null,
      "outputs": [
        {
          "output_type": "stream",
          "text": [
            "Best Score: 0.6928855140186917\n",
            "Best Hyperparameters: {'C': 1.5, 'solver': 'lbfgs', 'tol': 0.0001}\n",
            "\n",
            "0.637 (+/-0.002) for {'C': 0.01, 'solver': 'lbfgs', 'tol': 0.0001}\n",
            "0.637 (+/-0.002) for {'C': 0.01, 'solver': 'lbfgs', 'tol': 0.001}\n",
            "0.637 (+/-0.002) for {'C': 0.01, 'solver': 'lbfgs', 'tol': 0.01}\n",
            "0.637 (+/-0.002) for {'C': 0.01, 'solver': 'lbfgs', 'tol': 0.1}\n",
            "0.637 (+/-0.002) for {'C': 0.01, 'solver': 'newton-cg', 'tol': 0.0001}\n",
            "0.637 (+/-0.002) for {'C': 0.01, 'solver': 'newton-cg', 'tol': 0.001}\n",
            "0.637 (+/-0.002) for {'C': 0.01, 'solver': 'newton-cg', 'tol': 0.01}\n",
            "0.637 (+/-0.002) for {'C': 0.01, 'solver': 'newton-cg', 'tol': 0.1}\n",
            "0.637 (+/-0.002) for {'C': 0.01, 'solver': 'sag', 'tol': 0.0001}\n",
            "0.637 (+/-0.002) for {'C': 0.01, 'solver': 'sag', 'tol': 0.001}\n",
            "0.637 (+/-0.002) for {'C': 0.01, 'solver': 'sag', 'tol': 0.01}\n",
            "0.637 (+/-0.002) for {'C': 0.01, 'solver': 'sag', 'tol': 0.1}\n",
            "0.637 (+/-0.002) for {'C': 0.01, 'solver': 'saga', 'tol': 0.0001}\n",
            "0.637 (+/-0.002) for {'C': 0.01, 'solver': 'saga', 'tol': 0.001}\n",
            "0.637 (+/-0.002) for {'C': 0.01, 'solver': 'saga', 'tol': 0.01}\n",
            "0.637 (+/-0.002) for {'C': 0.01, 'solver': 'saga', 'tol': 0.1}\n",
            "0.637 (+/-0.002) for {'C': 0.1, 'solver': 'lbfgs', 'tol': 0.0001}\n",
            "0.637 (+/-0.002) for {'C': 0.1, 'solver': 'lbfgs', 'tol': 0.001}\n",
            "0.637 (+/-0.002) for {'C': 0.1, 'solver': 'lbfgs', 'tol': 0.01}\n",
            "0.637 (+/-0.002) for {'C': 0.1, 'solver': 'lbfgs', 'tol': 0.1}\n",
            "0.637 (+/-0.002) for {'C': 0.1, 'solver': 'newton-cg', 'tol': 0.0001}\n",
            "0.637 (+/-0.002) for {'C': 0.1, 'solver': 'newton-cg', 'tol': 0.001}\n",
            "0.637 (+/-0.002) for {'C': 0.1, 'solver': 'newton-cg', 'tol': 0.01}\n",
            "0.637 (+/-0.002) for {'C': 0.1, 'solver': 'newton-cg', 'tol': 0.1}\n",
            "0.637 (+/-0.002) for {'C': 0.1, 'solver': 'sag', 'tol': 0.0001}\n",
            "0.637 (+/-0.002) for {'C': 0.1, 'solver': 'sag', 'tol': 0.001}\n",
            "0.637 (+/-0.002) for {'C': 0.1, 'solver': 'sag', 'tol': 0.01}\n",
            "0.637 (+/-0.002) for {'C': 0.1, 'solver': 'sag', 'tol': 0.1}\n",
            "0.637 (+/-0.002) for {'C': 0.1, 'solver': 'saga', 'tol': 0.0001}\n",
            "0.637 (+/-0.002) for {'C': 0.1, 'solver': 'saga', 'tol': 0.001}\n",
            "0.637 (+/-0.002) for {'C': 0.1, 'solver': 'saga', 'tol': 0.01}\n",
            "0.637 (+/-0.002) for {'C': 0.1, 'solver': 'saga', 'tol': 0.1}\n",
            "0.659 (+/-0.008) for {'C': 0.5, 'solver': 'lbfgs', 'tol': 0.0001}\n",
            "0.659 (+/-0.008) for {'C': 0.5, 'solver': 'lbfgs', 'tol': 0.001}\n",
            "0.660 (+/-0.007) for {'C': 0.5, 'solver': 'lbfgs', 'tol': 0.01}\n",
            "0.659 (+/-0.008) for {'C': 0.5, 'solver': 'lbfgs', 'tol': 0.1}\n",
            "0.659 (+/-0.008) for {'C': 0.5, 'solver': 'newton-cg', 'tol': 0.0001}\n",
            "0.659 (+/-0.008) for {'C': 0.5, 'solver': 'newton-cg', 'tol': 0.001}\n",
            "0.659 (+/-0.008) for {'C': 0.5, 'solver': 'newton-cg', 'tol': 0.01}\n",
            "0.660 (+/-0.007) for {'C': 0.5, 'solver': 'newton-cg', 'tol': 0.1}\n",
            "0.659 (+/-0.008) for {'C': 0.5, 'solver': 'sag', 'tol': 0.0001}\n",
            "0.659 (+/-0.008) for {'C': 0.5, 'solver': 'sag', 'tol': 0.001}\n",
            "0.659 (+/-0.009) for {'C': 0.5, 'solver': 'sag', 'tol': 0.01}\n",
            "0.659 (+/-0.009) for {'C': 0.5, 'solver': 'sag', 'tol': 0.1}\n",
            "0.660 (+/-0.007) for {'C': 0.5, 'solver': 'saga', 'tol': 0.0001}\n",
            "0.660 (+/-0.007) for {'C': 0.5, 'solver': 'saga', 'tol': 0.001}\n",
            "0.660 (+/-0.009) for {'C': 0.5, 'solver': 'saga', 'tol': 0.01}\n",
            "0.660 (+/-0.014) for {'C': 0.5, 'solver': 'saga', 'tol': 0.1}\n",
            "0.685 (+/-0.028) for {'C': 1.0, 'solver': 'lbfgs', 'tol': 0.0001}\n",
            "0.685 (+/-0.028) for {'C': 1.0, 'solver': 'lbfgs', 'tol': 0.001}\n",
            "0.685 (+/-0.028) for {'C': 1.0, 'solver': 'lbfgs', 'tol': 0.01}\n",
            "0.684 (+/-0.027) for {'C': 1.0, 'solver': 'lbfgs', 'tol': 0.1}\n",
            "0.685 (+/-0.028) for {'C': 1.0, 'solver': 'newton-cg', 'tol': 0.0001}\n",
            "0.685 (+/-0.028) for {'C': 1.0, 'solver': 'newton-cg', 'tol': 0.001}\n",
            "0.685 (+/-0.028) for {'C': 1.0, 'solver': 'newton-cg', 'tol': 0.01}\n",
            "0.685 (+/-0.028) for {'C': 1.0, 'solver': 'newton-cg', 'tol': 0.1}\n",
            "0.685 (+/-0.028) for {'C': 1.0, 'solver': 'sag', 'tol': 0.0001}\n",
            "0.685 (+/-0.028) for {'C': 1.0, 'solver': 'sag', 'tol': 0.001}\n",
            "0.685 (+/-0.028) for {'C': 1.0, 'solver': 'sag', 'tol': 0.01}\n",
            "0.684 (+/-0.025) for {'C': 1.0, 'solver': 'sag', 'tol': 0.1}\n",
            "0.685 (+/-0.028) for {'C': 1.0, 'solver': 'saga', 'tol': 0.0001}\n",
            "0.685 (+/-0.028) for {'C': 1.0, 'solver': 'saga', 'tol': 0.001}\n",
            "0.685 (+/-0.025) for {'C': 1.0, 'solver': 'saga', 'tol': 0.01}\n",
            "0.685 (+/-0.024) for {'C': 1.0, 'solver': 'saga', 'tol': 0.1}\n",
            "0.693 (+/-0.036) for {'C': 1.5, 'solver': 'lbfgs', 'tol': 0.0001}\n",
            "0.693 (+/-0.036) for {'C': 1.5, 'solver': 'lbfgs', 'tol': 0.001}\n",
            "0.693 (+/-0.036) for {'C': 1.5, 'solver': 'lbfgs', 'tol': 0.01}\n",
            "0.693 (+/-0.036) for {'C': 1.5, 'solver': 'lbfgs', 'tol': 0.1}\n",
            "0.693 (+/-0.036) for {'C': 1.5, 'solver': 'newton-cg', 'tol': 0.0001}\n",
            "0.693 (+/-0.036) for {'C': 1.5, 'solver': 'newton-cg', 'tol': 0.001}\n",
            "0.693 (+/-0.036) for {'C': 1.5, 'solver': 'newton-cg', 'tol': 0.01}\n",
            "0.692 (+/-0.033) for {'C': 1.5, 'solver': 'newton-cg', 'tol': 0.1}\n",
            "0.693 (+/-0.036) for {'C': 1.5, 'solver': 'sag', 'tol': 0.0001}\n",
            "0.693 (+/-0.036) for {'C': 1.5, 'solver': 'sag', 'tol': 0.001}\n",
            "0.692 (+/-0.035) for {'C': 1.5, 'solver': 'sag', 'tol': 0.01}\n",
            "0.690 (+/-0.038) for {'C': 1.5, 'solver': 'sag', 'tol': 0.1}\n",
            "0.692 (+/-0.034) for {'C': 1.5, 'solver': 'saga', 'tol': 0.0001}\n",
            "0.692 (+/-0.034) for {'C': 1.5, 'solver': 'saga', 'tol': 0.001}\n",
            "0.692 (+/-0.034) for {'C': 1.5, 'solver': 'saga', 'tol': 0.01}\n",
            "0.690 (+/-0.039) for {'C': 1.5, 'solver': 'saga', 'tol': 0.1}\n"
          ],
          "name": "stdout"
        }
      ]
    },
    {
      "cell_type": "code",
      "metadata": {
        "id": "PZyAycTgdYO7"
      },
      "source": [
        "# Best Score: 0.6928855140186917\n",
        "# Best Hyperparameters: {'C': 1.5, 'solver': 'lbfgs', 'tol': 0.0001}"
      ],
      "execution_count": null,
      "outputs": []
    },
    {
      "cell_type": "markdown",
      "metadata": {
        "id": "SdHMBC6O8zpU"
      },
      "source": [
        "- MULTINOMIAL NAIVE BAYES"
      ]
    },
    {
      "cell_type": "code",
      "metadata": {
        "id": "bWQiWlZVaBUg",
        "colab": {
          "base_uri": "https://localhost:8080/"
        },
        "outputId": "8c5943b4-d8da-4262-82fd-1a2f77303f2d"
      },
      "source": [
        "naivebayes  = MultinomialNB()\n",
        "parameters = {'alpha': [0.001, 0.01,0.1,0.5,1.0,1.2]}\n",
        "doGridSearch(naivebayes, parameters)"
      ],
      "execution_count": null,
      "outputs": [
        {
          "output_type": "stream",
          "text": [
            "Best Score: 0.6810066199376947\n",
            "Best Hyperparameters: {'alpha': 0.5}\n",
            "\n",
            "0.656 (+/-0.041) for {'alpha': 0.001}\n",
            "0.656 (+/-0.041) for {'alpha': 0.01}\n",
            "0.671 (+/-0.036) for {'alpha': 0.1}\n",
            "0.681 (+/-0.037) for {'alpha': 0.5}\n",
            "0.657 (+/-0.015) for {'alpha': 1.0}\n",
            "0.653 (+/-0.009) for {'alpha': 1.2}\n"
          ],
          "name": "stdout"
        }
      ]
    },
    {
      "cell_type": "code",
      "metadata": {
        "id": "BOVmajCvdbZo"
      },
      "source": [
        "# Best Score: 0.6810066199376947\n",
        "# Best Hyperparameters: {'alpha': 0.5}"
      ],
      "execution_count": null,
      "outputs": []
    },
    {
      "cell_type": "markdown",
      "metadata": {
        "id": "VHpksNFu85dv"
      },
      "source": [
        "- SUPPORT VECTOR CLASSIFIER"
      ]
    },
    {
      "cell_type": "code",
      "metadata": {
        "colab": {
          "base_uri": "https://localhost:8080/"
        },
        "id": "AlfMM3WYehSm",
        "outputId": "6e112cfd-c3f6-46ae-c141-abecbb3acbf3"
      },
      "source": [
        "svc = SVC()\n",
        "parameters = {'kernel':  ['rbf', 'poly','sigmoid'] , 'C': [0.1,0.5,1.0,5,10], 'gamma': [0.0001,0.001,0.01,0.1]}\n",
        "doGridSearch(svc, parameters)"
      ],
      "execution_count": null,
      "outputs": [
        {
          "output_type": "stream",
          "text": [
            "Best Score: 0.690369937694704\n",
            "Best Hyperparameters: {'C': 10, 'gamma': 0.1, 'kernel': 'rbf'}\n",
            "\n",
            "0.637 (+/-0.002) for {'C': 0.1, 'gamma': 0.0001, 'kernel': 'rbf'}\n",
            "0.637 (+/-0.002) for {'C': 0.1, 'gamma': 0.0001, 'kernel': 'poly'}\n",
            "0.637 (+/-0.002) for {'C': 0.1, 'gamma': 0.0001, 'kernel': 'sigmoid'}\n",
            "0.637 (+/-0.002) for {'C': 0.1, 'gamma': 0.001, 'kernel': 'rbf'}\n",
            "0.637 (+/-0.002) for {'C': 0.1, 'gamma': 0.001, 'kernel': 'poly'}\n",
            "0.637 (+/-0.002) for {'C': 0.1, 'gamma': 0.001, 'kernel': 'sigmoid'}\n",
            "0.637 (+/-0.002) for {'C': 0.1, 'gamma': 0.01, 'kernel': 'rbf'}\n",
            "0.637 (+/-0.002) for {'C': 0.1, 'gamma': 0.01, 'kernel': 'poly'}\n",
            "0.637 (+/-0.002) for {'C': 0.1, 'gamma': 0.01, 'kernel': 'sigmoid'}\n",
            "0.637 (+/-0.002) for {'C': 0.1, 'gamma': 0.1, 'kernel': 'rbf'}\n",
            "0.637 (+/-0.002) for {'C': 0.1, 'gamma': 0.1, 'kernel': 'poly'}\n",
            "0.637 (+/-0.002) for {'C': 0.1, 'gamma': 0.1, 'kernel': 'sigmoid'}\n",
            "0.637 (+/-0.002) for {'C': 0.5, 'gamma': 0.0001, 'kernel': 'rbf'}\n",
            "0.637 (+/-0.002) for {'C': 0.5, 'gamma': 0.0001, 'kernel': 'poly'}\n",
            "0.637 (+/-0.002) for {'C': 0.5, 'gamma': 0.0001, 'kernel': 'sigmoid'}\n",
            "0.637 (+/-0.002) for {'C': 0.5, 'gamma': 0.001, 'kernel': 'rbf'}\n",
            "0.637 (+/-0.002) for {'C': 0.5, 'gamma': 0.001, 'kernel': 'poly'}\n",
            "0.637 (+/-0.002) for {'C': 0.5, 'gamma': 0.001, 'kernel': 'sigmoid'}\n",
            "0.637 (+/-0.002) for {'C': 0.5, 'gamma': 0.01, 'kernel': 'rbf'}\n",
            "0.637 (+/-0.002) for {'C': 0.5, 'gamma': 0.01, 'kernel': 'poly'}\n",
            "0.637 (+/-0.002) for {'C': 0.5, 'gamma': 0.01, 'kernel': 'sigmoid'}\n",
            "0.637 (+/-0.002) for {'C': 0.5, 'gamma': 0.1, 'kernel': 'rbf'}\n",
            "0.637 (+/-0.002) for {'C': 0.5, 'gamma': 0.1, 'kernel': 'poly'}\n",
            "0.637 (+/-0.002) for {'C': 0.5, 'gamma': 0.1, 'kernel': 'sigmoid'}\n",
            "0.637 (+/-0.002) for {'C': 1.0, 'gamma': 0.0001, 'kernel': 'rbf'}\n",
            "0.637 (+/-0.002) for {'C': 1.0, 'gamma': 0.0001, 'kernel': 'poly'}\n",
            "0.637 (+/-0.002) for {'C': 1.0, 'gamma': 0.0001, 'kernel': 'sigmoid'}\n",
            "0.637 (+/-0.002) for {'C': 1.0, 'gamma': 0.001, 'kernel': 'rbf'}\n",
            "0.637 (+/-0.002) for {'C': 1.0, 'gamma': 0.001, 'kernel': 'poly'}\n",
            "0.637 (+/-0.002) for {'C': 1.0, 'gamma': 0.001, 'kernel': 'sigmoid'}\n",
            "0.637 (+/-0.002) for {'C': 1.0, 'gamma': 0.01, 'kernel': 'rbf'}\n",
            "0.637 (+/-0.002) for {'C': 1.0, 'gamma': 0.01, 'kernel': 'poly'}\n",
            "0.637 (+/-0.002) for {'C': 1.0, 'gamma': 0.01, 'kernel': 'sigmoid'}\n",
            "0.637 (+/-0.002) for {'C': 1.0, 'gamma': 0.1, 'kernel': 'rbf'}\n",
            "0.637 (+/-0.002) for {'C': 1.0, 'gamma': 0.1, 'kernel': 'poly'}\n",
            "0.637 (+/-0.002) for {'C': 1.0, 'gamma': 0.1, 'kernel': 'sigmoid'}\n",
            "0.637 (+/-0.002) for {'C': 5, 'gamma': 0.0001, 'kernel': 'rbf'}\n",
            "0.637 (+/-0.002) for {'C': 5, 'gamma': 0.0001, 'kernel': 'poly'}\n",
            "0.637 (+/-0.002) for {'C': 5, 'gamma': 0.0001, 'kernel': 'sigmoid'}\n",
            "0.637 (+/-0.002) for {'C': 5, 'gamma': 0.001, 'kernel': 'rbf'}\n",
            "0.637 (+/-0.002) for {'C': 5, 'gamma': 0.001, 'kernel': 'poly'}\n",
            "0.637 (+/-0.002) for {'C': 5, 'gamma': 0.001, 'kernel': 'sigmoid'}\n",
            "0.637 (+/-0.002) for {'C': 5, 'gamma': 0.01, 'kernel': 'rbf'}\n",
            "0.637 (+/-0.002) for {'C': 5, 'gamma': 0.01, 'kernel': 'poly'}\n",
            "0.637 (+/-0.002) for {'C': 5, 'gamma': 0.01, 'kernel': 'sigmoid'}\n",
            "0.680 (+/-0.021) for {'C': 5, 'gamma': 0.1, 'kernel': 'rbf'}\n",
            "0.637 (+/-0.002) for {'C': 5, 'gamma': 0.1, 'kernel': 'poly'}\n",
            "0.663 (+/-0.013) for {'C': 5, 'gamma': 0.1, 'kernel': 'sigmoid'}\n",
            "0.637 (+/-0.002) for {'C': 10, 'gamma': 0.0001, 'kernel': 'rbf'}\n",
            "0.637 (+/-0.002) for {'C': 10, 'gamma': 0.0001, 'kernel': 'poly'}\n",
            "0.637 (+/-0.002) for {'C': 10, 'gamma': 0.0001, 'kernel': 'sigmoid'}\n",
            "0.637 (+/-0.002) for {'C': 10, 'gamma': 0.001, 'kernel': 'rbf'}\n",
            "0.637 (+/-0.002) for {'C': 10, 'gamma': 0.001, 'kernel': 'poly'}\n",
            "0.637 (+/-0.002) for {'C': 10, 'gamma': 0.001, 'kernel': 'sigmoid'}\n",
            "0.637 (+/-0.002) for {'C': 10, 'gamma': 0.01, 'kernel': 'rbf'}\n",
            "0.637 (+/-0.002) for {'C': 10, 'gamma': 0.01, 'kernel': 'poly'}\n",
            "0.637 (+/-0.002) for {'C': 10, 'gamma': 0.01, 'kernel': 'sigmoid'}\n",
            "0.690 (+/-0.029) for {'C': 10, 'gamma': 0.1, 'kernel': 'rbf'}\n",
            "0.637 (+/-0.002) for {'C': 10, 'gamma': 0.1, 'kernel': 'poly'}\n",
            "0.688 (+/-0.026) for {'C': 10, 'gamma': 0.1, 'kernel': 'sigmoid'}\n"
          ],
          "name": "stdout"
        }
      ]
    },
    {
      "cell_type": "code",
      "metadata": {
        "id": "daFFAbwNdhZe"
      },
      "source": [
        "# Logistic Regression\n",
        "# Best Score: 0.6928855140186917\n",
        "# Best Hyperparameters: {'C': 1.5, 'solver': 'lbfgs', 'tol': 0.0001}\n",
        "\n",
        "# Mult NB\n",
        "# Best Score: 0.6810066199376947\n",
        "# Best Hyperparameters: {'alpha': 0.5}\n",
        "\n",
        "# SVC\n",
        "# Best Score: 0.690369937694704\n",
        "# Best Hyperparameters: {'C': 10, 'gamma': 0.1, 'kernel': 'rbf'}\n",
        "\n",
        "# Logistic Regression has best accuracy on validation set #"
      ],
      "execution_count": null,
      "outputs": []
    },
    {
      "cell_type": "markdown",
      "metadata": {
        "id": "w6hm5rkAdkID"
      },
      "source": [
        "- Test Set Evaluation"
      ]
    },
    {
      "cell_type": "code",
      "metadata": {
        "colab": {
          "base_uri": "https://localhost:8080/"
        },
        "id": "btx3iEhChqqC",
        "outputId": "b6b914b4-01e1-4e5c-de31-d6a074efac90"
      },
      "source": [
        "# TEST SET\n",
        "\n",
        "model = LogisticRegression(multi_class='multinomial',C = 1.5, solver= 'lbfgs', tol =  0.0001, random_state=42) \n",
        "model.fit(x_train, y_train)\n",
        "y_pred = model.predict(x_test_tfidf) #x_test_tfidf\n",
        "\n",
        "accuracy_score(y_pred, y_test) #0.6800"
      ],
      "execution_count": null,
      "outputs": [
        {
          "output_type": "execute_result",
          "data": {
            "text/plain": [
              "0.7279305354558611"
            ]
          },
          "metadata": {
            "tags": []
          },
          "execution_count": 29
        }
      ]
    },
    {
      "cell_type": "code",
      "metadata": {
        "colab": {
          "base_uri": "https://localhost:8080/",
          "height": 295
        },
        "id": "DVVfAW7oO4Gz",
        "outputId": "ebe0e327-4c87-485f-e31c-dd87b72ecf0f"
      },
      "source": [
        "# Print confusion matrix\n",
        "cm = confusion_matrix(y_test, y_pred)\n",
        "\n",
        "ax= plt.subplot()\n",
        "sns.heatmap(cm, annot=True, ax = ax,cmap='Blues'); \n",
        "\n",
        "# labels, title and ticks\n",
        "ax.set_xlabel('Predicted labels');ax.set_ylabel('True labels'); \n",
        "ax.set_title('Confusion Matrix'); \n",
        "ax.xaxis.set_ticklabels([ \"negative\", \"neutral\",\"positive\"]);\n",
        "ax.yaxis.set_ticklabels([\"negative\", \"neutral\",\"positive\"],rotation = 0);\n"
      ],
      "execution_count": null,
      "outputs": [
        {
          "output_type": "display_data",
          "data": {
            "image/png": "[encoded data removed]",
            "text/plain": [
              "<Figure size 432x288 with 2 Axes>"
            ]
          },
          "metadata": {
            "tags": [],
            "needs_background": "light"
          }
        }
      ]
    },
    {
      "cell_type": "markdown",
      "metadata": {
        "id": "K4V9D2ml2GNO"
      },
      "source": [
        "## EMBEDDINGS WITH NEURAL NETWORK"
      ]
    },
    {
      "cell_type": "code",
      "metadata": {
        "colab": {
          "base_uri": "https://localhost:8080/"
        },
        "id": "dvnPjb7_5jih",
        "outputId": "9bedea3d-58fc-48fd-9c50-4ebcf1420184"
      },
      "source": [
        "# test label\n",
        "y_test = pd.get_dummies(df_test['sentiment'])\n",
        "y_test = y_test.values\n",
        "\n",
        "# all training label\n",
        "y = pd.get_dummies(df_train['sentiment'])\n",
        "label = y.values\n",
        "label"
      ],
      "execution_count": null,
      "outputs": [
        {
          "output_type": "execute_result",
          "data": {
            "text/plain": [
              "array([[1, 0, 0],\n",
              "       [0, 0, 1],\n",
              "       [0, 0, 1],\n",
              "       ...,\n",
              "       [0, 1, 0],\n",
              "       [0, 1, 0],\n",
              "       [0, 1, 0]], dtype=uint8)"
            ]
          },
          "metadata": {
            "tags": []
          },
          "execution_count": 43
        }
      ]
    },
    {
      "cell_type": "code",
      "metadata": {
        "id": "-QEjQTJRA0sj",
        "colab": {
          "base_uri": "https://localhost:8080/"
        },
        "outputId": "842a82f4-4608-4349-bfa4-c7eea732964c"
      },
      "source": [
        "print(df_train.describe())\n",
        "print()\n",
        "print(df_test.describe())"
      ],
      "execution_count": null,
      "outputs": [
        {
          "output_type": "stream",
          "text": [
            "          len_text\n",
            "count  2136.000000\n",
            "mean      2.640918\n",
            "std       0.852489\n",
            "min       0.000000\n",
            "25%       2.000000\n",
            "50%       2.000000\n",
            "75%       3.000000\n",
            "max       8.000000\n",
            "\n",
            "         len_text\n",
            "count  691.000000\n",
            "mean     2.602026\n",
            "std      0.776052\n",
            "min      0.000000\n",
            "25%      2.000000\n",
            "50%      2.000000\n",
            "75%      3.000000\n",
            "max      5.000000\n"
          ],
          "name": "stdout"
        }
      ]
    },
    {
      "cell_type": "code",
      "metadata": {
        "id": "thn9Rv8G2lsO",
        "colab": {
          "base_uri": "https://localhost:8080/"
        },
        "outputId": "1bd788a4-9a31-4f17-80b4-a45e7b632628"
      },
      "source": [
        "from tensorflow.keras.preprocessing import text\n",
        "\n",
        "x = df_train['processed_text'].values\n",
        "\n",
        "max_features = 1500         # most freq 1500 words in the dataset would be kept\n",
        "max_text_length = 8        # as  max text length = 8\n",
        "\n",
        "# change each text into a sequence of integers, each integer being index of token in a dictionary\n",
        "x_tokenizer = text.Tokenizer(max_features)\n",
        "x_tokenizer.fit_on_texts(list(x))\n",
        "x_tokenized = x_tokenizer.texts_to_sequences(x)\n",
        "x_training_all = sequence.pad_sequences(x_tokenized,maxlen = max_text_length)#padding\n",
        "\n",
        "x_training_all"
      ],
      "execution_count": null,
      "outputs": [
        {
          "output_type": "execute_result",
          "data": {
            "text/plain": [
              "array([[  0,   0,   0, ...,   0,  10, 174],\n",
              "       [  0,   0,   0, ..., 685,   1,  85],\n",
              "       [  0,   0,   0, ...,   0,   1, 437],\n",
              "       ...,\n",
              "       [  0,   0,   0, ..., 198, 242, 191],\n",
              "       [  0,   0,   0, ..., 191, 588,  74],\n",
              "       [  0,   0,   0, ...,   0,  71,  65]], dtype=int32)"
            ]
          },
          "metadata": {
            "tags": []
          },
          "execution_count": 45
        }
      ]
    },
    {
      "cell_type": "code",
      "metadata": {
        "id": "7arVPuF82l1_",
        "colab": {
          "base_uri": "https://localhost:8080/"
        },
        "outputId": "ae395830-c0df-4571-ca85-acef3c287abd"
      },
      "source": [
        "#tokenise and pad the text \n",
        "x_test_tokenized = x_tokenizer.texts_to_sequences(df_test['processed_text'].values)\n",
        "x_testing = sequence.pad_sequences(x_test_tokenized,maxlen = max_text_length) \n",
        "\n",
        "x_testing"
      ],
      "execution_count": null,
      "outputs": [
        {
          "output_type": "execute_result",
          "data": {
            "text/plain": [
              "array([[   0,    0,    0, ...,   95,  909,   36],\n",
              "       [   0,    0,    0, ...,    0, 1017,   79],\n",
              "       [   0,    0,    0, ...,    1,   15,   21],\n",
              "       ...,\n",
              "       [   0,    0,    0, ...,    0,    0,    0],\n",
              "       [   0,    0,    0, ...,    0,    0,   39],\n",
              "       [   0,    0,    0, ...,    0,    0,  264]], dtype=int32)"
            ]
          },
          "metadata": {
            "tags": []
          },
          "execution_count": 46
        }
      ]
    },
    {
      "cell_type": "markdown",
      "metadata": {
        "id": "0EJFsrCy2Yw4"
      },
      "source": [
        "#### Embedding"
      ]
    },
    {
      "cell_type": "code",
      "metadata": {
        "colab": {
          "base_uri": "https://localhost:8080/"
        },
        "id": "3f1VPWm_jYeX",
        "outputId": "722d4df0-26d4-4b05-91a3-1f1f2e3921d4"
      },
      "source": [
        "# code to download glove data\n",
        "!wget http://nlp.stanford.edu/data/glove.6B.zip\n",
        "!unzip -q glove.6B.zip"
      ],
      "execution_count": null,
      "outputs": [
        {
          "output_type": "stream",
          "text": [
            "--2021-06-10 19:57:05--  http://nlp.stanford.edu/data/glove.6B.zip\n",
            "Resolving nlp.stanford.edu (nlp.stanford.edu)... 171.64.67.140\n",
            "Connecting to nlp.stanford.edu (nlp.stanford.edu)|171.64.67.140|:80... connected.\n",
            "HTTP request sent, awaiting response... 302 Found\n",
            "Location: https://nlp.stanford.edu/data/glove.6B.zip [following]\n",
            "--2021-06-10 19:57:05--  https://nlp.stanford.edu/data/glove.6B.zip\n",
            "Connecting to nlp.stanford.edu (nlp.stanford.edu)|171.64.67.140|:443... connected.\n",
            "HTTP request sent, awaiting response... 301 Moved Permanently\n",
            "Location: http://downloads.cs.stanford.edu/nlp/data/glove.6B.zip [following]\n",
            "--2021-06-10 19:57:06--  http://downloads.cs.stanford.edu/nlp/data/glove.6B.zip\n",
            "Resolving downloads.cs.stanford.edu (downloads.cs.stanford.edu)... 171.64.64.22\n",
            "Connecting to downloads.cs.stanford.edu (downloads.cs.stanford.edu)|171.64.64.22|:80... connected.\n",
            "HTTP request sent, awaiting response... 200 OK\n",
            "Length: 862182613 (822M) [application/zip]\n",
            "Saving to: ‘glove.6B.zip’\n",
            "\n",
            "glove.6B.zip        100%[===================>] 822.24M  5.04MB/s    in 2m 41s  \n",
            "\n",
            "2021-06-10 19:59:46 (5.12 MB/s) - ‘glove.6B.zip’ saved [862182613/862182613]\n",
            "\n"
          ],
          "name": "stdout"
        }
      ]
    },
    {
      "cell_type": "code",
      "metadata": {
        "id": "fF11yNgZ2bEN",
        "colab": {
          "base_uri": "https://localhost:8080/"
        },
        "outputId": "b09a8579-3ea7-4465-faa8-9288bfe2ae34"
      },
      "source": [
        "# open glove and store word embeddings\n",
        "embedding_dim = 100\n",
        "embeddings_index = dict()\n",
        "\n",
        "f = open('glove.6B.100d.txt')\n",
        "\n",
        "for line in f:\n",
        "    values = line.split()\n",
        "    word = values[0]\n",
        "    coefs = np.asarray(values[1:],dtype = 'float32') #store all excepy val[0]\n",
        "    embeddings_index[word] = coefs                  #populate embedding dict\n",
        "    \n",
        "f.close()\n",
        "\n",
        "print(f'Found {len(embeddings_index)} word vectors') "
      ],
      "execution_count": null,
      "outputs": [
        {
          "output_type": "stream",
          "text": [
            "Found 400000 word vectors\n"
          ],
          "name": "stdout"
        }
      ]
    },
    {
      "cell_type": "code",
      "metadata": {
        "id": "nghT2cgj2geD",
        "colab": {
          "base_uri": "https://localhost:8080/"
        },
        "outputId": "8e92439c-c36d-4c15-c7b2-c049b9c88afa"
      },
      "source": [
        "# prepare embedding_matrix\n",
        "\n",
        "embedding_matrix = np.zeros((max_features,embedding_dim))\n",
        "\n",
        "for word,index in x_tokenizer.word_index.items():\n",
        "    \n",
        "    if index> max_features -1: #bounding by max feat\n",
        "        break\n",
        "    else:\n",
        "        embedding_vector = embeddings_index.get(word)\n",
        "    if embedding_vector is not None:\n",
        "        embedding_matrix[index] = embedding_vector\n",
        "\n",
        "embedding_matrix.shape"
      ],
      "execution_count": null,
      "outputs": [
        {
          "output_type": "execute_result",
          "data": {
            "text/plain": [
              "(1500, 100)"
            ]
          },
          "metadata": {
            "tags": []
          },
          "execution_count": 48
        }
      ]
    },
    {
      "cell_type": "code",
      "metadata": {
        "colab": {
          "base_uri": "https://localhost:8080/"
        },
        "id": "elxP5PTg2gig",
        "outputId": "c074a6a9-72b4-4296-d3d5-13c401897c99"
      },
      "source": [
        "print(embedding_matrix)"
      ],
      "execution_count": null,
      "outputs": [
        {
          "output_type": "stream",
          "text": [
            "[[ 0.          0.          0.         ...  0.          0.\n",
            "   0.        ]\n",
            " [-0.16486     0.91996998  0.22736999 ... -0.067904    1.5072\n",
            "   0.60889   ]\n",
            " [-0.4224     -0.13313    -0.41418001 ... -0.070558    0.12285\n",
            "   0.43399999]\n",
            " ...\n",
            " [ 0.75694001  0.033857    0.37807    ...  0.26293999  0.60535997\n",
            "   0.62142998]\n",
            " [-0.34031999  0.16266     0.12526    ... -0.56076998 -0.41714001\n",
            "   0.43031999]\n",
            " [ 0.066709    0.27447999  0.81423998 ...  0.50615001  0.50641\n",
            "   0.025595  ]]\n"
          ],
          "name": "stdout"
        }
      ]
    },
    {
      "cell_type": "code",
      "metadata": {
        "colab": {
          "base_uri": "https://localhost:8080/"
        },
        "id": "17DIpfFh6w-T",
        "outputId": "687ef9b6-b7ef-4f8f-b757-98350c4eb8c9"
      },
      "source": [
        "# split data into training and vslidation set\n",
        "x_train, x_valid, y_train, y_valid = train_test_split(x_training_all ,label, test_size=0.2, random_state=42, shuffle = True)\n",
        "\n",
        "print(x_train.shape)\n",
        "print(y_train.shape)\n",
        "\n",
        "print(x_valid.shape)\n",
        "print(y_valid.shape)"
      ],
      "execution_count": null,
      "outputs": [
        {
          "output_type": "stream",
          "text": [
            "(1708, 8)\n",
            "(1708, 3)\n",
            "(428, 8)\n",
            "(428, 3)\n"
          ],
          "name": "stdout"
        }
      ]
    },
    {
      "cell_type": "code",
      "metadata": {
        "colab": {
          "base_uri": "https://localhost:8080/"
        },
        "id": "ciCeV1JaBkkY",
        "outputId": "e748fe81-e91f-4f99-c7e8-92440995b788"
      },
      "source": [
        "x_train"
      ],
      "execution_count": null,
      "outputs": [
        {
          "output_type": "execute_result",
          "data": {
            "text/plain": [
              "array([[   0,    0,    0, ...,    0,    0,    0],\n",
              "       [   0,    0,    0, ...,  154,   21,  264],\n",
              "       [   0,    0,    0, ...,    0,  259,  173],\n",
              "       ...,\n",
              "       [   0,    0,    0, ...,    0,    6,  618],\n",
              "       [   0,    0,    0, ...,  183, 1185,   31],\n",
              "       [   0,    0,    0, ...,    0,  219, 1012]], dtype=int32)"
            ]
          },
          "metadata": {
            "tags": []
          },
          "execution_count": 51
        }
      ]
    },
    {
      "cell_type": "markdown",
      "metadata": {
        "id": "8d2MyFkd29HM"
      },
      "source": [
        "#### Model"
      ]
    },
    {
      "cell_type": "code",
      "metadata": {
        "id": "UJQAHDXEuxQU"
      },
      "source": [
        "# plot accuracy and loss curves\n",
        "def plot_history(history):\n",
        "    \n",
        "    plt.figure(figsize=(8,5),linewidth = 7, edgecolor=\"whitesmoke\")    \n",
        "    n = len(history.history['accuracy'])\n",
        "    \n",
        "    plt.plot(np.arange(0,n)+1,history.history['accuracy'], color='orange',marker=\".\")\n",
        "    plt.plot(np.arange(0,n)+1,history.history['loss'],'b',marker=\".\")\n",
        "    \n",
        "    # offset both validation curves\n",
        "    plt.plot(np.arange(0,n)+ 1,history.history['val_accuracy'],'r')  \n",
        "    plt.plot(np.arange(0,n)+ 1,history.history['val_loss'],'g')\n",
        "    \n",
        "    plt.legend(['Train Acc','Train Loss','Val Acc','Val Loss'])\n",
        "    plt.grid(True)\n",
        "    \n",
        "    # set vertical limit to 1\n",
        "    plt.gca().set_ylim(0,1)\n",
        "\n",
        "    plt.xlabel(\"Number of Epochs\")\n",
        "    plt.ylabel(\"Value\")\n",
        "    plt.suptitle(\"Learning Curve\", size=16, y=0.927)\n",
        "    plt.show() "
      ],
      "execution_count": null,
      "outputs": []
    },
    {
      "cell_type": "code",
      "metadata": {
        "id": "NNDCXRY92RkV"
      },
      "source": [
        "#function to evaluate the model using validation data\n",
        "def model_evalulate(model_name):\n",
        "    \n",
        "    testres = model_name.evaluate(x_valid, y_valid, verbose=0)\n",
        "    \n",
        "    print(\"Validation set\")\n",
        "    print('loss:', testres[0])\n",
        "    print(\"accuracy:\" ,testres[1])\n",
        "\n",
        "#function to evaluate the model using test data\n",
        "def model_evalulate_test(model_name):\n",
        "    \n",
        "    testres = model_name.evaluate(x_testing, y_test, verbose=0)\n",
        "    \n",
        "    print(\"Test set\")\n",
        "    print('loss:', testres[0])\n",
        "    print(\"accuracy:\" ,testres[1])"
      ],
      "execution_count": null,
      "outputs": []
    },
    {
      "cell_type": "code",
      "metadata": {
        "id": "umVLmxXO2T1z"
      },
      "source": [
        "# set some values\n",
        "\n",
        "embedding_dim = 100\n",
        "max_features = 1500   \n",
        "actfn = 'relu'\n",
        "optimizer_ = tf.optimizers.Adam\n",
        "learningrate = 0.001\n",
        "batch_size = 20"
      ],
      "execution_count": null,
      "outputs": []
    },
    {
      "cell_type": "code",
      "metadata": {
        "id": "DGtRWwgI7BAx"
      },
      "source": [
        "# function to build the CNN model \n",
        "def model_cnn():\n",
        "    \n",
        "    model = Sequential()\n",
        "    \n",
        "    #create embedding layer\n",
        "    model.add(Embedding(max_features, embedding_dim, trainable = False ,embeddings_initializer = tf.keras.initializers.Constant(embedding_matrix)))  \n",
        "\n",
        "    # 1st dropout\n",
        "    model.add(Dropout(0.4))\n",
        "    \n",
        "    # 1st convolutional 1-D layer\n",
        "    model.add(Conv1D(32,3, padding = 'valid',activation = actfn)) #no padding\n",
        "    \n",
        "    #max pooling layer\n",
        "    model.add(MaxPooling1D())\n",
        "    \n",
        "    # 2nd convolutional 1-D layer\n",
        "    model.add(Conv1D(64, 3, padding = 'valid', activation = actfn))\n",
        "    \n",
        "    # global max pooling layer\n",
        "    model.add(GlobalMaxPooling1D())\n",
        "    \n",
        "    # 1st dense layer\n",
        "    model.add(Dense(6,activation = actfn))\n",
        "    \n",
        "    # 2nd dropout\n",
        "    model.add(Dropout(0.4))\n",
        "    \n",
        "    # final dense layer\n",
        "    model.add(Dense(3,activation = 'softmax')) #sigmoid\n",
        "    \n",
        "    # compile the model\n",
        "    model.compile(loss = 'categorical_crossentropy',    \n",
        "                 optimizer = optimizer_(learning_rate = 0.001),\n",
        "                 metrics = ['accuracy']) \n",
        "\n",
        "    return model"
      ],
      "execution_count": null,
      "outputs": []
    },
    {
      "cell_type": "code",
      "metadata": {
        "id": "T625u-ZOZc64"
      },
      "source": [
        "# function to build the LSTM model \n",
        "def model_lstm():\n",
        "    \n",
        "    model = Sequential()\n",
        "    \n",
        "    #create embedding layer\n",
        "    model.add(Embedding(max_features, embedding_dim, trainable = False ,embeddings_initializer = tf.keras.initializers.Constant(embedding_matrix)))  \n",
        "\n",
        "    model.add(layers.Bidirectional(layers.LSTM(20, dropout=0.5,activation='tanh')))\n",
        "\n",
        "    model.add(Dense(10, activation='relu'))\n",
        "\n",
        "    # final dense layer\n",
        "    model.add(Dense(3,activation = 'softmax'))\n",
        "    \n",
        "    # compile the model\n",
        "    model.compile(loss = 'categorical_crossentropy',    \n",
        "                 optimizer = 'rmsprop'     ,   \n",
        "                 metrics = ['accuracy']) \n",
        "\n",
        "    return model"
      ],
      "execution_count": null,
      "outputs": []
    },
    {
      "cell_type": "code",
      "metadata": {
        "id": "uFPb7hvx7BEa"
      },
      "source": [
        "# function to compile and fit the model \n",
        "def model_run(actfn, n_epochs, batch_size, model):\n",
        "    \n",
        "    es = EarlyStopping(monitor='val_accuracy', mode='max', verbose = 1 ,patience= 20, restore_best_weights = True ) \n",
        "    \n",
        "    # fit the model\n",
        "    history = model.fit(x_train,y_train,\n",
        "              batch_size = batch_size,\n",
        "              epochs = n_epochs,\n",
        "              validation_data=(x_valid,y_valid),\n",
        "              callbacks=[es] )\n",
        "    \n",
        "    return (history, model)"
      ],
      "execution_count": null,
      "outputs": []
    },
    {
      "cell_type": "code",
      "metadata": {
        "colab": {
          "base_uri": "https://localhost:8080/",
          "height": 1000
        },
        "id": "h8KQ1GfJ7GD_",
        "outputId": "93b26009-bd6a-444b-fa85-e41763b44bd3"
      },
      "source": [
        "# Run LSTM model\n",
        "\n",
        "seed_value = 2\n",
        "random.seed(seed_value)\n",
        "np.random.seed(seed_value)\n",
        "tf.random.set_seed(seed_value)\n",
        "\n",
        "history_1stm, model_1stm = model_run (actfn, 100, batch_size,  model_lstm())\n",
        "plot_history(history_1stm) \n",
        "\n",
        "print()\n",
        "model_evalulate(model_1stm)"
      ],
      "execution_count": null,
      "outputs": [
        {
          "output_type": "stream",
          "text": [
            "Epoch 1/100\n",
            "86/86 [==============================] - 16s 19ms/step - loss: 1.0083 - accuracy: 0.4429 - val_loss: 0.8817 - val_accuracy: 0.6308\n",
            "Epoch 2/100\n",
            "86/86 [==============================] - 1s 7ms/step - loss: 0.8725 - accuracy: 0.6210 - val_loss: 0.8573 - val_accuracy: 0.6308\n",
            "Epoch 3/100\n",
            "86/86 [==============================] - 1s 7ms/step - loss: 0.8541 - accuracy: 0.6216 - val_loss: 0.8375 - val_accuracy: 0.6425\n",
            "Epoch 4/100\n",
            "86/86 [==============================] - 1s 6ms/step - loss: 0.8006 - accuracy: 0.6626 - val_loss: 0.8288 - val_accuracy: 0.6589\n",
            "Epoch 5/100\n",
            "86/86 [==============================] - 1s 6ms/step - loss: 0.7817 - accuracy: 0.6674 - val_loss: 0.7993 - val_accuracy: 0.6495\n",
            "Epoch 6/100\n",
            "86/86 [==============================] - 1s 6ms/step - loss: 0.7623 - accuracy: 0.6784 - val_loss: 0.8015 - val_accuracy: 0.6589\n",
            "Epoch 7/100\n",
            "86/86 [==============================] - 1s 6ms/step - loss: 0.7289 - accuracy: 0.6873 - val_loss: 0.8201 - val_accuracy: 0.6565\n",
            "Epoch 8/100\n",
            "86/86 [==============================] - 1s 7ms/step - loss: 0.7348 - accuracy: 0.6874 - val_loss: 0.8215 - val_accuracy: 0.6636\n",
            "Epoch 9/100\n",
            "86/86 [==============================] - 1s 6ms/step - loss: 0.7471 - accuracy: 0.6882 - val_loss: 0.7924 - val_accuracy: 0.6589\n",
            "Epoch 10/100\n",
            "86/86 [==============================] - 1s 6ms/step - loss: 0.7450 - accuracy: 0.6894 - val_loss: 0.7949 - val_accuracy: 0.6729\n",
            "Epoch 11/100\n",
            "86/86 [==============================] - 1s 6ms/step - loss: 0.7129 - accuracy: 0.6999 - val_loss: 0.7809 - val_accuracy: 0.6729\n",
            "Epoch 12/100\n",
            "86/86 [==============================] - 1s 6ms/step - loss: 0.6646 - accuracy: 0.7409 - val_loss: 0.7761 - val_accuracy: 0.6752\n",
            "Epoch 13/100\n",
            "86/86 [==============================] - 1s 6ms/step - loss: 0.7072 - accuracy: 0.6967 - val_loss: 0.7753 - val_accuracy: 0.6846\n",
            "Epoch 14/100\n",
            "86/86 [==============================] - 1s 6ms/step - loss: 0.6825 - accuracy: 0.7033 - val_loss: 0.7972 - val_accuracy: 0.6799\n",
            "Epoch 15/100\n",
            "86/86 [==============================] - 1s 6ms/step - loss: 0.7033 - accuracy: 0.7035 - val_loss: 0.8073 - val_accuracy: 0.6752\n",
            "Epoch 16/100\n",
            "86/86 [==============================] - 1s 6ms/step - loss: 0.6533 - accuracy: 0.7337 - val_loss: 0.7842 - val_accuracy: 0.6799\n",
            "Epoch 17/100\n",
            "86/86 [==============================] - 1s 7ms/step - loss: 0.6530 - accuracy: 0.7266 - val_loss: 0.7862 - val_accuracy: 0.6682\n",
            "Epoch 18/100\n",
            "86/86 [==============================] - 1s 7ms/step - loss: 0.6577 - accuracy: 0.7470 - val_loss: 0.7758 - val_accuracy: 0.6799\n",
            "Epoch 19/100\n",
            "86/86 [==============================] - 1s 6ms/step - loss: 0.6688 - accuracy: 0.7073 - val_loss: 0.7730 - val_accuracy: 0.6682\n",
            "Epoch 20/100\n",
            "86/86 [==============================] - 1s 7ms/step - loss: 0.6263 - accuracy: 0.7368 - val_loss: 0.7733 - val_accuracy: 0.6822\n",
            "Epoch 21/100\n",
            "86/86 [==============================] - 1s 6ms/step - loss: 0.6492 - accuracy: 0.7332 - val_loss: 0.7854 - val_accuracy: 0.6776\n",
            "Epoch 22/100\n",
            "86/86 [==============================] - 1s 6ms/step - loss: 0.6662 - accuracy: 0.7278 - val_loss: 0.8025 - val_accuracy: 0.6752\n",
            "Epoch 23/100\n",
            "86/86 [==============================] - 1s 6ms/step - loss: 0.6533 - accuracy: 0.7353 - val_loss: 0.8028 - val_accuracy: 0.6776\n",
            "Epoch 24/100\n",
            "86/86 [==============================] - 1s 6ms/step - loss: 0.6681 - accuracy: 0.7269 - val_loss: 0.8260 - val_accuracy: 0.6776\n",
            "Epoch 25/100\n",
            "86/86 [==============================] - 1s 6ms/step - loss: 0.6152 - accuracy: 0.7377 - val_loss: 0.8078 - val_accuracy: 0.6846\n",
            "Epoch 26/100\n",
            "86/86 [==============================] - 1s 6ms/step - loss: 0.6032 - accuracy: 0.7461 - val_loss: 0.8179 - val_accuracy: 0.6799\n",
            "Epoch 27/100\n",
            "86/86 [==============================] - 1s 6ms/step - loss: 0.6087 - accuracy: 0.7542 - val_loss: 0.8237 - val_accuracy: 0.6706\n",
            "Epoch 28/100\n",
            "86/86 [==============================] - 1s 6ms/step - loss: 0.5700 - accuracy: 0.7677 - val_loss: 0.8148 - val_accuracy: 0.6799\n",
            "Epoch 29/100\n",
            "86/86 [==============================] - 1s 6ms/step - loss: 0.6072 - accuracy: 0.7465 - val_loss: 0.8411 - val_accuracy: 0.6776\n",
            "Epoch 30/100\n",
            "86/86 [==============================] - 1s 6ms/step - loss: 0.5661 - accuracy: 0.7698 - val_loss: 0.8210 - val_accuracy: 0.6822\n",
            "Epoch 31/100\n",
            "86/86 [==============================] - 1s 6ms/step - loss: 0.5993 - accuracy: 0.7396 - val_loss: 0.8341 - val_accuracy: 0.6729\n",
            "Epoch 32/100\n",
            "86/86 [==============================] - 1s 6ms/step - loss: 0.5842 - accuracy: 0.7504 - val_loss: 0.8396 - val_accuracy: 0.6659\n",
            "Epoch 33/100\n",
            "86/86 [==============================] - 1s 6ms/step - loss: 0.6046 - accuracy: 0.7593 - val_loss: 0.8847 - val_accuracy: 0.6706\n",
            "Restoring model weights from the end of the best epoch.\n",
            "Epoch 00033: early stopping\n"
          ],
          "name": "stdout"
        },
        {
          "output_type": "display_data",
          "data": {
            "image/png": "[encoded data removed]",
            "text/plain": [
              "<Figure size 576x360 with 1 Axes>"
            ]
          },
          "metadata": {
            "tags": [],
            "needs_background": "light"
          }
        },
        {
          "output_type": "stream",
          "text": [
            "\n",
            "Validation set\n",
            "loss: 0.7753225564956665\n",
            "accuracy: 0.6845794320106506\n"
          ],
          "name": "stdout"
        }
      ]
    },
    {
      "cell_type": "code",
      "metadata": {
        "colab": {
          "base_uri": "https://localhost:8080/",
          "height": 1000
        },
        "id": "fGt9GZya_TFv",
        "outputId": "e0c97d44-0507-4987-9c6e-49efd19eedc6"
      },
      "source": [
        "# Run CNN Model\n",
        "tf.random.set_seed(seed_value)\n",
        "\n",
        "history_cnn, model_cnn_ = model_run (actfn, 100, batch_size, model_cnn())\n",
        "plot_history(history_cnn) \n",
        "print()\n",
        "model_evalulate(model_cnn_)"
      ],
      "execution_count": null,
      "outputs": [
        {
          "output_type": "stream",
          "text": [
            "Epoch 1/100\n",
            "86/86 [==============================] - 18s 9ms/step - loss: 1.0242 - accuracy: 0.5486 - val_loss: 0.8916 - val_accuracy: 0.6308\n",
            "Epoch 2/100\n",
            "86/86 [==============================] - 0s 3ms/step - loss: 0.9345 - accuracy: 0.6329 - val_loss: 0.8675 - val_accuracy: 0.6308\n",
            "Epoch 3/100\n",
            "86/86 [==============================] - 0s 3ms/step - loss: 0.8753 - accuracy: 0.6361 - val_loss: 0.8605 - val_accuracy: 0.6379\n",
            "Epoch 4/100\n",
            "86/86 [==============================] - 0s 3ms/step - loss: 0.8557 - accuracy: 0.6495 - val_loss: 0.8409 - val_accuracy: 0.6425\n",
            "Epoch 5/100\n",
            "86/86 [==============================] - 0s 3ms/step - loss: 0.8482 - accuracy: 0.6391 - val_loss: 0.8091 - val_accuracy: 0.6542\n",
            "Epoch 6/100\n",
            "86/86 [==============================] - 0s 3ms/step - loss: 0.8540 - accuracy: 0.6314 - val_loss: 0.7954 - val_accuracy: 0.6589\n",
            "Epoch 7/100\n",
            "86/86 [==============================] - 0s 3ms/step - loss: 0.8318 - accuracy: 0.6419 - val_loss: 0.8070 - val_accuracy: 0.6612\n",
            "Epoch 8/100\n",
            "86/86 [==============================] - 0s 3ms/step - loss: 0.8146 - accuracy: 0.6547 - val_loss: 0.7908 - val_accuracy: 0.6565\n",
            "Epoch 9/100\n",
            "86/86 [==============================] - 0s 3ms/step - loss: 0.7600 - accuracy: 0.6775 - val_loss: 0.7866 - val_accuracy: 0.6659\n",
            "Epoch 10/100\n",
            "86/86 [==============================] - 0s 3ms/step - loss: 0.7593 - accuracy: 0.6616 - val_loss: 0.7843 - val_accuracy: 0.6659\n",
            "Epoch 11/100\n",
            "86/86 [==============================] - 0s 3ms/step - loss: 0.7681 - accuracy: 0.6373 - val_loss: 0.7840 - val_accuracy: 0.6612\n",
            "Epoch 12/100\n",
            "86/86 [==============================] - 0s 3ms/step - loss: 0.7416 - accuracy: 0.6790 - val_loss: 0.7740 - val_accuracy: 0.6682\n",
            "Epoch 13/100\n",
            "86/86 [==============================] - 0s 3ms/step - loss: 0.7761 - accuracy: 0.6579 - val_loss: 0.7887 - val_accuracy: 0.6612\n",
            "Epoch 14/100\n",
            "86/86 [==============================] - 0s 3ms/step - loss: 0.7178 - accuracy: 0.6750 - val_loss: 0.7920 - val_accuracy: 0.6659\n",
            "Epoch 15/100\n",
            "86/86 [==============================] - 0s 3ms/step - loss: 0.7223 - accuracy: 0.6875 - val_loss: 0.7890 - val_accuracy: 0.6682\n",
            "Epoch 16/100\n",
            "86/86 [==============================] - 0s 3ms/step - loss: 0.7319 - accuracy: 0.7018 - val_loss: 0.7976 - val_accuracy: 0.6659\n",
            "Epoch 17/100\n",
            "86/86 [==============================] - 0s 3ms/step - loss: 0.7182 - accuracy: 0.7062 - val_loss: 0.8094 - val_accuracy: 0.6659\n",
            "Epoch 18/100\n",
            "86/86 [==============================] - 0s 3ms/step - loss: 0.6857 - accuracy: 0.7095 - val_loss: 0.7929 - val_accuracy: 0.6682\n",
            "Epoch 19/100\n",
            "86/86 [==============================] - 0s 3ms/step - loss: 0.7070 - accuracy: 0.6898 - val_loss: 0.7995 - val_accuracy: 0.6659\n",
            "Epoch 20/100\n",
            "86/86 [==============================] - 0s 3ms/step - loss: 0.6932 - accuracy: 0.6937 - val_loss: 0.8102 - val_accuracy: 0.6612\n",
            "Epoch 21/100\n",
            "86/86 [==============================] - 0s 3ms/step - loss: 0.6442 - accuracy: 0.7224 - val_loss: 0.8068 - val_accuracy: 0.6636\n",
            "Epoch 22/100\n",
            "86/86 [==============================] - 0s 3ms/step - loss: 0.6594 - accuracy: 0.7205 - val_loss: 0.8024 - val_accuracy: 0.6706\n",
            "Epoch 23/100\n",
            "86/86 [==============================] - 0s 3ms/step - loss: 0.6428 - accuracy: 0.7349 - val_loss: 0.8305 - val_accuracy: 0.6612\n",
            "Epoch 24/100\n",
            "86/86 [==============================] - 0s 3ms/step - loss: 0.6759 - accuracy: 0.7096 - val_loss: 0.7997 - val_accuracy: 0.6472\n",
            "Epoch 25/100\n",
            "86/86 [==============================] - 0s 3ms/step - loss: 0.6341 - accuracy: 0.7485 - val_loss: 0.8358 - val_accuracy: 0.6659\n",
            "Epoch 26/100\n",
            "86/86 [==============================] - 0s 3ms/step - loss: 0.6173 - accuracy: 0.7352 - val_loss: 0.8547 - val_accuracy: 0.6542\n",
            "Epoch 27/100\n",
            "86/86 [==============================] - 0s 3ms/step - loss: 0.6177 - accuracy: 0.7449 - val_loss: 0.8511 - val_accuracy: 0.6425\n",
            "Epoch 28/100\n",
            "86/86 [==============================] - 0s 3ms/step - loss: 0.6252 - accuracy: 0.7415 - val_loss: 0.8250 - val_accuracy: 0.6495\n",
            "Epoch 29/100\n",
            "86/86 [==============================] - 0s 3ms/step - loss: 0.6255 - accuracy: 0.7401 - val_loss: 0.8188 - val_accuracy: 0.6659\n",
            "Epoch 30/100\n",
            "86/86 [==============================] - 0s 3ms/step - loss: 0.6204 - accuracy: 0.7325 - val_loss: 0.8256 - val_accuracy: 0.6659\n",
            "Epoch 31/100\n",
            "86/86 [==============================] - 0s 3ms/step - loss: 0.6253 - accuracy: 0.7291 - val_loss: 0.8419 - val_accuracy: 0.6659\n",
            "Epoch 32/100\n",
            "86/86 [==============================] - 0s 3ms/step - loss: 0.5859 - accuracy: 0.7518 - val_loss: 0.8502 - val_accuracy: 0.6612\n",
            "Epoch 33/100\n",
            "86/86 [==============================] - 0s 3ms/step - loss: 0.6293 - accuracy: 0.7492 - val_loss: 0.8523 - val_accuracy: 0.6565\n",
            "Epoch 34/100\n",
            "86/86 [==============================] - 0s 3ms/step - loss: 0.5993 - accuracy: 0.7560 - val_loss: 0.8522 - val_accuracy: 0.6636\n",
            "Epoch 35/100\n",
            "86/86 [==============================] - 0s 3ms/step - loss: 0.5816 - accuracy: 0.7520 - val_loss: 0.8826 - val_accuracy: 0.6682\n",
            "Epoch 36/100\n",
            "86/86 [==============================] - 0s 3ms/step - loss: 0.6167 - accuracy: 0.7320 - val_loss: 0.8792 - val_accuracy: 0.6495\n",
            "Epoch 37/100\n",
            "86/86 [==============================] - 0s 3ms/step - loss: 0.5968 - accuracy: 0.7547 - val_loss: 0.8746 - val_accuracy: 0.6519\n",
            "Epoch 38/100\n",
            "86/86 [==============================] - 0s 3ms/step - loss: 0.5825 - accuracy: 0.7597 - val_loss: 0.9133 - val_accuracy: 0.6542\n",
            "Epoch 39/100\n",
            "86/86 [==============================] - 0s 3ms/step - loss: 0.5492 - accuracy: 0.7616 - val_loss: 0.9338 - val_accuracy: 0.6542\n",
            "Epoch 40/100\n",
            "86/86 [==============================] - 0s 3ms/step - loss: 0.5816 - accuracy: 0.7583 - val_loss: 0.9035 - val_accuracy: 0.6612\n",
            "Epoch 41/100\n",
            "86/86 [==============================] - 0s 3ms/step - loss: 0.5654 - accuracy: 0.7617 - val_loss: 0.9066 - val_accuracy: 0.6612\n",
            "Epoch 42/100\n",
            "86/86 [==============================] - 0s 3ms/step - loss: 0.5682 - accuracy: 0.7543 - val_loss: 0.8896 - val_accuracy: 0.6565\n",
            "Restoring model weights from the end of the best epoch.\n",
            "Epoch 00042: early stopping\n"
          ],
          "name": "stdout"
        },
        {
          "output_type": "display_data",
          "data": {
            "image/png": "[encoded data removed]",
            "text/plain": [
              "<Figure size 576x360 with 1 Axes>"
            ]
          },
          "metadata": {
            "tags": [],
            "needs_background": "light"
          }
        },
        {
          "output_type": "stream",
          "text": [
            "\n",
            "Validation set\n",
            "loss: 0.8023753762245178\n",
            "accuracy: 0.6705607771873474\n"
          ],
          "name": "stdout"
        }
      ]
    },
    {
      "cell_type": "markdown",
      "metadata": {
        "id": "YdogMX7Whm_7"
      },
      "source": [
        "- LSTM : Validation set  - loss: 0.7753225564956665, accuracy: 0.6845794320106506\n",
        "\n",
        "- CNN : Validation set  - loss: 0.8023753762245178 ,accuracy: 0.6705607771873474\n",
        "\n",
        "- LSTM Model has a greater accuracy and lower loss than CNN model , so i will optimise LSTM Model further\n",
        "\n"
      ]
    },
    {
      "cell_type": "markdown",
      "metadata": {
        "id": "nw9uPdmoDNyU"
      },
      "source": [
        "### Optimise LSTM further"
      ]
    },
    {
      "cell_type": "markdown",
      "metadata": {
        "id": "ZpjmuPSfIGdh"
      },
      "source": [
        "- #1 Batch size and Number of Epoch"
      ]
    },
    {
      "cell_type": "code",
      "metadata": {
        "colab": {
          "base_uri": "https://localhost:8080/"
        },
        "id": "PQbmAgO6DSsL",
        "outputId": "270bf030-fcbb-41a2-8fa4-3c44c7c3fb3b"
      },
      "source": [
        "#batch size and epoch\n",
        "from keras.wrappers.scikit_learn import KerasClassifier\n",
        "\n",
        "# create model\n",
        "model = KerasClassifier(build_fn= model_lstm, verbose=0)\n",
        "\n",
        "# define the grid search parameters\n",
        "batch_size = [10, 20, 32, 64, 80, 128]\n",
        "epochs = [20, 30, 50]\n",
        "\n",
        "param_grid = dict(batch_size=batch_size, epochs=epochs)\n",
        "\n",
        "grid = GridSearchCV(estimator=model, param_grid=param_grid, n_jobs=-1, cv=3)\n",
        "grid_result = grid.fit(x_train, y_train)\n",
        "\n",
        "# summarize results\n",
        "print(\"Best: %f using %s\" % (grid_result.best_score_, grid_result.best_params_))\n",
        "means = grid_result.cv_results_['mean_test_score']\n",
        "stds = grid_result.cv_results_['std_test_score']\n",
        "params = grid_result.cv_results_['params']\n",
        "for mean, stdev, param in zip(means, stds, params):\n",
        "    print(\"%f (%f) with: %r\" % (mean, stdev, param))"
      ],
      "execution_count": null,
      "outputs": [
        {
          "output_type": "stream",
          "text": [
            "Best: 0.693799 using {'batch_size': 128, 'epochs': 50}\n",
            "0.689710 (0.017549) with: {'batch_size': 10, 'epochs': 20}\n",
            "0.692623 (0.008614) with: {'batch_size': 10, 'epochs': 30}\n",
            "0.675061 (0.004071) with: {'batch_size': 10, 'epochs': 50}\n",
            "0.685020 (0.010882) with: {'batch_size': 20, 'epochs': 20}\n",
            "0.685609 (0.014705) with: {'batch_size': 20, 'epochs': 30}\n",
            "0.683845 (0.005510) with: {'batch_size': 20, 'epochs': 50}\n",
            "0.690880 (0.019184) with: {'batch_size': 32, 'epochs': 20}\n",
            "0.690878 (0.013417) with: {'batch_size': 32, 'epochs': 30}\n",
            "0.680927 (0.017268) with: {'batch_size': 32, 'epochs': 50}\n",
            "0.686196 (0.016850) with: {'batch_size': 64, 'epochs': 20}\n",
            "0.689119 (0.012681) with: {'batch_size': 64, 'epochs': 30}\n",
            "0.682092 (0.011243) with: {'batch_size': 64, 'epochs': 50}\n",
            "0.680919 (0.007677) with: {'batch_size': 80, 'epochs': 20}\n",
            "0.685606 (0.010935) with: {'batch_size': 80, 'epochs': 30}\n",
            "0.682673 (0.006925) with: {'batch_size': 80, 'epochs': 50}\n",
            "0.668633 (0.018223) with: {'batch_size': 128, 'epochs': 20}\n",
            "0.684443 (0.020128) with: {'batch_size': 128, 'epochs': 30}\n",
            "0.693799 (0.007015) with: {'batch_size': 128, 'epochs': 50}\n"
          ],
          "name": "stdout"
        }
      ]
    },
    {
      "cell_type": "code",
      "metadata": {
        "id": "G7MKof2ZitYK"
      },
      "source": [
        "# Best: 0.693799 using {'batch_size': 128, 'epochs': 50}\n",
        "# I will use this batch size and epoch for further tuning of optimizer"
      ],
      "execution_count": null,
      "outputs": []
    },
    {
      "cell_type": "markdown",
      "metadata": {
        "id": "I56_HXh9IMkD"
      },
      "source": [
        "- #2. Optimizer"
      ]
    },
    {
      "cell_type": "code",
      "metadata": {
        "id": "anInzsTdGY7V"
      },
      "source": [
        "# function to build the model \n",
        "def model_lstm_act(optimizer = 'RMSprop'):\n",
        "    \n",
        "    model = Sequential()\n",
        "    \n",
        "    #create embedding layer\n",
        "    model.add(Embedding(max_features, embedding_dim, trainable = False ,embeddings_initializer = tf.keras.initializers.Constant(embedding_matrix)))  \n",
        "\n",
        "    model.add(layers.Bidirectional(layers.LSTM(20, dropout=0.5,activation='tanh')))\n",
        "\n",
        "    model.add(Dense(10, activation='relu'))\n",
        "\n",
        "    # final dense layer\n",
        "    model.add(Dense(3,activation = 'softmax')) \n",
        "    \n",
        "    # compile the model\n",
        "    model.compile(loss = 'categorical_crossentropy',    \n",
        "                 optimizer = optimizer    ,  \n",
        "                 metrics = ['accuracy']) \n",
        "\n",
        "    return model"
      ],
      "execution_count": null,
      "outputs": []
    },
    {
      "cell_type": "code",
      "metadata": {
        "colab": {
          "base_uri": "https://localhost:8080/"
        },
        "id": "GARq7lxJDSwu",
        "outputId": "a62767ca-8e79-45c6-f49a-7cc7330fb6fd"
      },
      "source": [
        "# create model\n",
        "model = KerasClassifier(build_fn = model_lstm_act, epochs=50, batch_size=128, verbose=0)\n",
        "\n",
        "# define the grid search parameters\n",
        "optimizer = ['SGD', 'RMSprop', 'Adagrad', 'Adadelta', 'Adam', 'Adamax', 'Nadam']\n",
        "param_grid = dict(optimizer=optimizer)\n",
        "\n",
        "grid = GridSearchCV(estimator=model, param_grid=param_grid, n_jobs=-1, cv=3)\n",
        "\n",
        "grid_result = grid.fit(x_train, y_train)\n",
        "# summarize results\n",
        "print(\"Best: %f using %s\" % (grid_result.best_score_, grid_result.best_params_))\n",
        "means = grid_result.cv_results_['mean_test_score']\n",
        "stds = grid_result.cv_results_['std_test_score']\n",
        "params = grid_result.cv_results_['params']\n",
        "for mean, stdev, param in zip(means, stds, params):\n",
        "    print(\"%f (%f) with: %r\" % (mean, stdev, param))"
      ],
      "execution_count": null,
      "outputs": [
        {
          "output_type": "stream",
          "text": [
            "Best: 0.693806 using {'optimizer': 'Adam'}\n",
            "0.632338 (0.024118) with: {'optimizer': 'SGD'}\n",
            "0.691464 (0.015207) with: {'optimizer': 'RMSprop'}\n",
            "0.627652 (0.021391) with: {'optimizer': 'Adagrad'}\n",
            "0.356417 (0.170014) with: {'optimizer': 'Adadelta'}\n",
            "0.693806 (0.014246) with: {'optimizer': 'Adam'}\n",
            "0.665124 (0.023388) with: {'optimizer': 'Adamax'}\n",
            "0.683848 (0.008458) with: {'optimizer': 'Nadam'}\n"
          ],
          "name": "stdout"
        }
      ]
    },
    {
      "cell_type": "code",
      "metadata": {
        "id": "eG6AXv-XjAMh"
      },
      "source": [
        "# Best: 0.693806 using {'optimizer': 'Adam'}"
      ],
      "execution_count": null,
      "outputs": []
    },
    {
      "cell_type": "markdown",
      "metadata": {
        "id": "hyzPrx-GIQoL"
      },
      "source": [
        "- #3. Number of layers in BiLSTM and hiddensize in Dense layer"
      ]
    },
    {
      "cell_type": "code",
      "metadata": {
        "id": "vbvQ7J0yDS19"
      },
      "source": [
        "# function to build the model with given no. of layers\n",
        "def model_lstm_layers(no_layers_l, no_layers_d):\n",
        "    \n",
        "    model = Sequential()\n",
        "    \n",
        "    #create embedding layer\n",
        "    model.add(Embedding(max_features, embedding_dim, trainable = False ,embeddings_initializer = tf.keras.initializers.Constant(embedding_matrix)))  \n",
        "\n",
        "    # Bidirectional LSTM Layer\n",
        "    model.add(layers.Bidirectional(layers.LSTM(no_layers_l, dropout=0.5,activation='tanh')))\n",
        "\n",
        "    # dense layer\n",
        "    model.add(Dense(no_layers_d, activation='relu'))\n",
        "\n",
        "    # final dense layer\n",
        "    model.add(Dense(3,activation = 'softmax')) \n",
        "    \n",
        "    # compile the model\n",
        "    model.compile(loss = 'categorical_crossentropy',    \n",
        "                 optimizer = 'adam'     ,   \n",
        "                 metrics = ['accuracy']) \n",
        "\n",
        "    return model"
      ],
      "execution_count": null,
      "outputs": []
    },
    {
      "cell_type": "code",
      "metadata": {
        "colab": {
          "base_uri": "https://localhost:8080/"
        },
        "id": "gP5lM-Z9DS5x",
        "outputId": "a502acc3-0a63-436f-a71b-c05d5e178d60"
      },
      "source": [
        "# lstm layers\n",
        "tf.random.set_seed(seed_value)\n",
        "\n",
        "lstm_layers = [2, 5, 10, 15, 20, 25, 30]\n",
        "\n",
        "for no_layers in lstm_layers:\n",
        "\n",
        "  model = model_lstm_layers(no_layers, 10)\n",
        "\n",
        "  es = EarlyStopping(monitor='val_accuracy', mode='max', verbose = 1 ,patience= 20, restore_best_weights = True  ) \n",
        "  history = model.fit(x_train,y_train, batch_size = 128, epochs = 60 ,validation_data=(x_valid,y_valid),callbacks=[es], verbose = 0)   # fit the model\n",
        "\n",
        "  print(\"-------------------------\")\n",
        "  print(\"no_layers: \", no_layers)\n",
        "  model_evalulate(model)\n",
        "  print(\"-------------------------\")\n",
        "  print()"
      ],
      "execution_count": null,
      "outputs": [
        {
          "output_type": "stream",
          "text": [
            "Restoring model weights from the end of the best epoch.\n",
            "Epoch 00024: early stopping\n",
            "-------------------------\n",
            "no_layers:  2\n",
            "Validation set\n",
            "loss: 1.0014516115188599\n",
            "accuracy: 0.6308411359786987\n",
            "-------------------------\n",
            "\n",
            "-------------------------\n",
            "no_layers:  5\n",
            "Validation set\n",
            "loss: 0.7586606740951538\n",
            "accuracy: 0.6705607771873474\n",
            "-------------------------\n",
            "\n",
            "Restoring model weights from the end of the best epoch.\n",
            "Epoch 00037: early stopping\n",
            "-------------------------\n",
            "no_layers:  10\n",
            "Validation set\n",
            "loss: 0.8013831973075867\n",
            "accuracy: 0.6752336621284485\n",
            "-------------------------\n",
            "\n",
            "Restoring model weights from the end of the best epoch.\n",
            "Epoch 00037: early stopping\n",
            "-------------------------\n",
            "no_layers:  15\n",
            "Validation set\n",
            "loss: 0.7887979745864868\n",
            "accuracy: 0.672897219657898\n",
            "-------------------------\n",
            "\n",
            "Restoring model weights from the end of the best epoch.\n",
            "Epoch 00052: early stopping\n",
            "-------------------------\n",
            "no_layers:  20\n",
            "Validation set\n",
            "loss: 0.7647894620895386\n",
            "accuracy: 0.6845794320106506\n",
            "-------------------------\n",
            "\n",
            "-------------------------\n",
            "no_layers:  25\n",
            "Validation set\n",
            "loss: 0.8611069321632385\n",
            "accuracy: 0.6822429895401001\n",
            "-------------------------\n",
            "\n",
            "-------------------------\n",
            "no_layers:  30\n",
            "Validation set\n",
            "loss: 0.9073664546012878\n",
            "accuracy: 0.6565420627593994\n",
            "-------------------------\n",
            "\n"
          ],
          "name": "stdout"
        }
      ]
    },
    {
      "cell_type": "code",
      "metadata": {
        "id": "SjUM28n_jce9"
      },
      "source": [
        "# Best- no_layers:  20 , loss: 0.7647894620895386, accuracy: 0.6845794320106506"
      ],
      "execution_count": null,
      "outputs": []
    },
    {
      "cell_type": "code",
      "metadata": {
        "colab": {
          "base_uri": "https://localhost:8080/"
        },
        "id": "-eoh_qLIrt4Q",
        "outputId": "9f4cb75e-e7b2-4bdc-f91f-71672cc7a35a"
      },
      "source": [
        "# Dense Layer size optimisation\n",
        "\n",
        "tf.random.set_seed(seed_value)\n",
        "dense_layers = [6,9,10,12,16]\n",
        "\n",
        "for no_layers in dense_layers:\n",
        "\n",
        "  model = model_lstm_layers( 20 , no_layers)\n",
        "\n",
        "  es = EarlyStopping(monitor='val_accuracy', mode='max', verbose = 1 ,patience= 20, restore_best_weights = True  ) # loss - 7, 'min' restore_best_weights = True \n",
        "  history = model.fit(x_train,y_train, batch_size = 128, epochs = 60 ,validation_data=(x_valid,y_valid),callbacks=[es], verbose = 0)   # fit the model\n",
        "\n",
        "  print(\"-------------------------\")\n",
        "  print(\"no_layers: \", no_layers)\n",
        "  model_evalulate(model)\n",
        "  print(\"-------------------------\")\n",
        "  print() "
      ],
      "execution_count": null,
      "outputs": [
        {
          "output_type": "stream",
          "text": [
            "Restoring model weights from the end of the best epoch.\n",
            "Epoch 00043: early stopping\n",
            "-------------------------\n",
            "no_layers:  6\n",
            "Validation set\n",
            "loss: 0.7835257649421692\n",
            "accuracy: 0.6705607771873474\n",
            "-------------------------\n",
            "\n",
            "-------------------------\n",
            "no_layers:  9\n",
            "Validation set\n",
            "loss: 0.8408368825912476\n",
            "accuracy: 0.6682242751121521\n",
            "-------------------------\n",
            "\n",
            "Restoring model weights from the end of the best epoch.\n",
            "Epoch 00031: early stopping\n",
            "-------------------------\n",
            "no_layers:  10\n",
            "Validation set\n",
            "loss: 0.7996227145195007\n",
            "accuracy: 0.677570104598999\n",
            "-------------------------\n",
            "\n",
            "Restoring model weights from the end of the best epoch.\n",
            "Epoch 00036: early stopping\n",
            "-------------------------\n",
            "no_layers:  12\n",
            "Validation set\n",
            "loss: 0.7715784907341003\n",
            "accuracy: 0.677570104598999\n",
            "-------------------------\n",
            "\n",
            "Restoring model weights from the end of the best epoch.\n",
            "Epoch 00032: early stopping\n",
            "-------------------------\n",
            "no_layers:  16\n",
            "Validation set\n",
            "loss: 0.796851634979248\n",
            "accuracy: 0.672897219657898\n",
            "-------------------------\n",
            "\n"
          ],
          "name": "stdout"
        }
      ]
    },
    {
      "cell_type": "code",
      "metadata": {
        "id": "FeOk6V4hraWQ"
      },
      "source": [
        "# Best size for dense layer- no_layers:  10, loss: 0.7996227145195007 , accuracy: 0.677570104598999"
      ],
      "execution_count": null,
      "outputs": []
    },
    {
      "cell_type": "markdown",
      "metadata": {
        "id": "fXI-O0ZUJ6TJ"
      },
      "source": [
        "### Final Model\n"
      ]
    },
    {
      "cell_type": "code",
      "metadata": {
        "id": "lKx5lkonIVnv"
      },
      "source": [
        "# function to build the model \n",
        "def model_lstm_final():\n",
        "    \n",
        "    model = Sequential()\n",
        "    \n",
        "    #create embedding layer\n",
        "    model.add(Embedding(max_features, embedding_dim, trainable = False ,embeddings_initializer = tf.keras.initializers.Constant(embedding_matrix)))  \n",
        "\n",
        "    # Bidirectional LSTM Layer\n",
        "    model.add(layers.Bidirectional(layers.LSTM(20 , dropout=0.5,activation='tanh')))\n",
        "\n",
        "    # dense layer\n",
        "    model.add(Dense(10 , activation='relu'))\n",
        "\n",
        "    # final dense layer\n",
        "    model.add(Dense(3,activation = 'softmax'))\n",
        "    \n",
        "    # compile the model\n",
        "    model.compile(loss = 'categorical_crossentropy',    \n",
        "                 optimizer = 'adam' ,   \n",
        "                 metrics = ['accuracy']) \n",
        "\n",
        "    return model"
      ],
      "execution_count": null,
      "outputs": []
    },
    {
      "cell_type": "code",
      "metadata": {
        "id": "_0KNzXnZIVrJ",
        "colab": {
          "base_uri": "https://localhost:8080/",
          "height": 1000
        },
        "outputId": "94454a5a-90f5-493e-937b-083567f658ad"
      },
      "source": [
        "tf.random.set_seed(seed_value)\n",
        "\n",
        "history_final, model_final = model_run (actfn, 60, 128,  model_lstm_final())\n",
        "plot_history(history_final) \n",
        "\n",
        "print()\n",
        "model_evalulate(model_final)\n",
        "model_evalulate_test(model_final)"
      ],
      "execution_count": null,
      "outputs": [
        {
          "output_type": "stream",
          "text": [
            "Epoch 1/60\n",
            "14/14 [==============================] - 7s 109ms/step - loss: 1.0868 - accuracy: 0.2743 - val_loss: 1.0283 - val_accuracy: 0.2453\n",
            "Epoch 2/60\n",
            "14/14 [==============================] - 0s 15ms/step - loss: 1.0198 - accuracy: 0.3455 - val_loss: 0.9923 - val_accuracy: 0.6051\n",
            "Epoch 3/60\n",
            "14/14 [==============================] - 0s 17ms/step - loss: 0.9701 - accuracy: 0.6161 - val_loss: 0.9242 - val_accuracy: 0.6308\n",
            "Epoch 4/60\n",
            "14/14 [==============================] - 0s 15ms/step - loss: 0.9035 - accuracy: 0.6356 - val_loss: 0.8808 - val_accuracy: 0.6308\n",
            "Epoch 5/60\n",
            "14/14 [==============================] - 0s 17ms/step - loss: 0.8798 - accuracy: 0.6272 - val_loss: 0.8745 - val_accuracy: 0.6308\n",
            "Epoch 6/60\n",
            "14/14 [==============================] - 0s 15ms/step - loss: 0.8610 - accuracy: 0.6234 - val_loss: 0.8549 - val_accuracy: 0.6308\n",
            "Epoch 7/60\n",
            "14/14 [==============================] - 0s 16ms/step - loss: 0.8242 - accuracy: 0.6517 - val_loss: 0.8398 - val_accuracy: 0.6285\n",
            "Epoch 8/60\n",
            "14/14 [==============================] - 0s 16ms/step - loss: 0.8210 - accuracy: 0.6439 - val_loss: 0.8259 - val_accuracy: 0.6402\n",
            "Epoch 9/60\n",
            "14/14 [==============================] - 0s 16ms/step - loss: 0.8231 - accuracy: 0.6428 - val_loss: 0.8082 - val_accuracy: 0.6425\n",
            "Epoch 10/60\n",
            "14/14 [==============================] - 0s 18ms/step - loss: 0.8096 - accuracy: 0.6402 - val_loss: 0.8076 - val_accuracy: 0.6449\n",
            "Epoch 11/60\n",
            "14/14 [==============================] - 0s 23ms/step - loss: 0.7773 - accuracy: 0.6553 - val_loss: 0.7907 - val_accuracy: 0.6542\n",
            "Epoch 12/60\n",
            "14/14 [==============================] - 0s 22ms/step - loss: 0.7400 - accuracy: 0.6915 - val_loss: 0.7963 - val_accuracy: 0.6542\n",
            "Epoch 13/60\n",
            "14/14 [==============================] - 0s 19ms/step - loss: 0.7635 - accuracy: 0.6769 - val_loss: 0.7918 - val_accuracy: 0.6589\n",
            "Epoch 14/60\n",
            "14/14 [==============================] - 0s 19ms/step - loss: 0.7408 - accuracy: 0.6914 - val_loss: 0.7851 - val_accuracy: 0.6565\n",
            "Epoch 15/60\n",
            "14/14 [==============================] - 0s 18ms/step - loss: 0.7629 - accuracy: 0.6846 - val_loss: 0.7840 - val_accuracy: 0.6612\n",
            "Epoch 16/60\n",
            "14/14 [==============================] - 0s 18ms/step - loss: 0.7327 - accuracy: 0.6865 - val_loss: 0.7761 - val_accuracy: 0.6612\n",
            "Epoch 17/60\n",
            "14/14 [==============================] - 0s 17ms/step - loss: 0.7049 - accuracy: 0.7051 - val_loss: 0.7824 - val_accuracy: 0.6659\n",
            "Epoch 18/60\n",
            "14/14 [==============================] - 0s 18ms/step - loss: 0.7045 - accuracy: 0.6914 - val_loss: 0.7853 - val_accuracy: 0.6636\n",
            "Epoch 19/60\n",
            "14/14 [==============================] - 0s 17ms/step - loss: 0.7344 - accuracy: 0.6855 - val_loss: 0.7814 - val_accuracy: 0.6682\n",
            "Epoch 20/60\n",
            "14/14 [==============================] - 0s 16ms/step - loss: 0.7007 - accuracy: 0.7164 - val_loss: 0.7766 - val_accuracy: 0.6706\n",
            "Epoch 21/60\n",
            "14/14 [==============================] - 0s 16ms/step - loss: 0.6933 - accuracy: 0.7131 - val_loss: 0.7793 - val_accuracy: 0.6706\n",
            "Epoch 22/60\n",
            "14/14 [==============================] - 0s 16ms/step - loss: 0.7144 - accuracy: 0.6960 - val_loss: 0.7847 - val_accuracy: 0.6752\n",
            "Epoch 23/60\n",
            "14/14 [==============================] - 0s 18ms/step - loss: 0.6999 - accuracy: 0.7027 - val_loss: 0.7787 - val_accuracy: 0.6776\n",
            "Epoch 24/60\n",
            "14/14 [==============================] - 0s 18ms/step - loss: 0.7041 - accuracy: 0.7046 - val_loss: 0.7850 - val_accuracy: 0.6776\n",
            "Epoch 25/60\n",
            "14/14 [==============================] - 0s 18ms/step - loss: 0.6892 - accuracy: 0.7020 - val_loss: 0.7808 - val_accuracy: 0.6659\n",
            "Epoch 26/60\n",
            "14/14 [==============================] - 0s 19ms/step - loss: 0.6732 - accuracy: 0.7129 - val_loss: 0.7823 - val_accuracy: 0.6706\n",
            "Epoch 27/60\n",
            "14/14 [==============================] - 0s 22ms/step - loss: 0.6673 - accuracy: 0.7255 - val_loss: 0.7857 - val_accuracy: 0.6659\n",
            "Epoch 28/60\n",
            "14/14 [==============================] - 0s 22ms/step - loss: 0.6455 - accuracy: 0.7226 - val_loss: 0.7793 - val_accuracy: 0.6636\n",
            "Epoch 29/60\n",
            "14/14 [==============================] - 0s 22ms/step - loss: 0.6734 - accuracy: 0.7214 - val_loss: 0.7848 - val_accuracy: 0.6636\n",
            "Epoch 30/60\n",
            "14/14 [==============================] - 0s 27ms/step - loss: 0.6452 - accuracy: 0.7244 - val_loss: 0.7768 - val_accuracy: 0.6659\n",
            "Epoch 31/60\n",
            "14/14 [==============================] - 0s 18ms/step - loss: 0.6687 - accuracy: 0.7278 - val_loss: 0.7945 - val_accuracy: 0.6682\n",
            "Epoch 32/60\n",
            "14/14 [==============================] - 0s 19ms/step - loss: 0.6558 - accuracy: 0.7247 - val_loss: 0.7840 - val_accuracy: 0.6729\n",
            "Epoch 33/60\n",
            "14/14 [==============================] - 0s 18ms/step - loss: 0.6705 - accuracy: 0.7252 - val_loss: 0.7941 - val_accuracy: 0.6659\n",
            "Epoch 34/60\n",
            "14/14 [==============================] - 0s 21ms/step - loss: 0.6158 - accuracy: 0.7398 - val_loss: 0.7928 - val_accuracy: 0.6659\n",
            "Epoch 35/60\n",
            "14/14 [==============================] - 0s 18ms/step - loss: 0.6604 - accuracy: 0.7088 - val_loss: 0.8282 - val_accuracy: 0.6682\n",
            "Epoch 36/60\n",
            "14/14 [==============================] - 0s 17ms/step - loss: 0.6627 - accuracy: 0.7162 - val_loss: 0.7901 - val_accuracy: 0.6682\n",
            "Epoch 37/60\n",
            "14/14 [==============================] - 0s 17ms/step - loss: 0.6317 - accuracy: 0.7341 - val_loss: 0.8145 - val_accuracy: 0.6659\n",
            "Epoch 38/60\n",
            "14/14 [==============================] - 0s 20ms/step - loss: 0.6581 - accuracy: 0.7247 - val_loss: 0.7932 - val_accuracy: 0.6659\n",
            "Epoch 39/60\n",
            "14/14 [==============================] - 0s 20ms/step - loss: 0.6354 - accuracy: 0.7323 - val_loss: 0.8040 - val_accuracy: 0.6612\n",
            "Epoch 40/60\n",
            "14/14 [==============================] - 0s 20ms/step - loss: 0.6170 - accuracy: 0.7468 - val_loss: 0.8011 - val_accuracy: 0.6636\n",
            "Epoch 41/60\n",
            "14/14 [==============================] - 0s 18ms/step - loss: 0.6435 - accuracy: 0.7263 - val_loss: 0.8147 - val_accuracy: 0.6659\n",
            "Epoch 42/60\n",
            "14/14 [==============================] - 0s 21ms/step - loss: 0.6386 - accuracy: 0.7375 - val_loss: 0.8032 - val_accuracy: 0.6682\n",
            "Epoch 43/60\n",
            "14/14 [==============================] - 0s 25ms/step - loss: 0.6117 - accuracy: 0.7424 - val_loss: 0.8281 - val_accuracy: 0.6636\n",
            "Restoring model weights from the end of the best epoch.\n",
            "Epoch 00043: early stopping\n"
          ],
          "name": "stdout"
        },
        {
          "output_type": "display_data",
          "data": {
            "image/png": "[encoded data removed]",
            "text/plain": [
              "<Figure size 576x360 with 1 Axes>"
            ]
          },
          "metadata": {
            "tags": [],
            "needs_background": "light"
          }
        },
        {
          "output_type": "stream",
          "text": [
            "\n",
            "Validation set\n",
            "loss: 0.7787066102027893\n",
            "accuracy: 0.677570104598999\n",
            "Test set\n",
            "loss: 0.6610619425773621\n",
            "accuracy: 0.7424023151397705\n"
          ],
          "name": "stdout"
        }
      ]
    },
    {
      "cell_type": "code",
      "metadata": {
        "id": "zOTzDOnTIVuN"
      },
      "source": [
        "# Final Result\n",
        "\n",
        "# Validation set\n",
        "# loss: 0.7787066102027893\n",
        "# accuracy: 0.677570104598999\n",
        "\n",
        "# Test set\n",
        "# loss: 0.6610619425773621\n",
        "# accuracy: 0.7424023151397705"
      ],
      "execution_count": null,
      "outputs": []
    },
    {
      "cell_type": "code",
      "metadata": {
        "colab": {
          "base_uri": "https://localhost:8080/"
        },
        "id": "oSigY4uJJLu5",
        "outputId": "58c9b3a2-1e58-405d-e5c8-86fd165a9973"
      },
      "source": [
        "y_pred =  model_final.predict(x_testing)\n",
        "y_pred"
      ],
      "execution_count": null,
      "outputs": [
        {
          "output_type": "execute_result",
          "data": {
            "text/plain": [
              "array([[0.16351214, 0.15501368, 0.6814742 ],\n",
              "       [0.34145004, 0.18301876, 0.4755312 ],\n",
              "       [0.0317125 , 0.01569882, 0.9525886 ],\n",
              "       ...,\n",
              "       [0.29577914, 0.23795865, 0.46626225],\n",
              "       [0.1256233 , 0.15146515, 0.7229116 ],\n",
              "       [0.15743099, 0.19474217, 0.64782685]], dtype=float32)"
            ]
          },
          "metadata": {
            "tags": []
          },
          "execution_count": 184
        }
      ]
    },
    {
      "cell_type": "code",
      "metadata": {
        "colab": {
          "base_uri": "https://localhost:8080/"
        },
        "id": "9s5qbhQBI-4H",
        "outputId": "962b957e-bafa-4091-cd25-7ee943d52605"
      },
      "source": [
        "# confusion matrix\n",
        "y_pred1 = y_pred.round()\n",
        "cm = confusion_matrix(y_test.argmax(axis=1), y_pred1.argmax(axis=1))\n",
        "print(cm)"
      ],
      "execution_count": null,
      "outputs": [
        {
          "output_type": "stream",
          "text": [
            "[[ 65   1  50]\n",
            " [ 34   3  59]\n",
            " [ 67   1 411]]\n"
          ],
          "name": "stdout"
        }
      ]
    },
    {
      "cell_type": "code",
      "metadata": {
        "colab": {
          "base_uri": "https://localhost:8080/",
          "height": 295
        },
        "id": "6x45h_KiI-62",
        "outputId": "b68dd2e6-8994-46f4-985d-f517da41bce8"
      },
      "source": [
        "# plot confusion  matrix\n",
        "ax= plt.subplot()\n",
        "sns.heatmap(cm, annot=True, ax = ax,cmap='Blues');\n",
        "\n",
        "# labels, title and ticks\n",
        "ax.set_xlabel('Predicted labels');ax.set_ylabel('True labels'); \n",
        "ax.set_title('Confusion Matrix'); \n",
        "ax.xaxis.set_ticklabels([ \"negative\", \"neutral\",\"positive\"]);\n",
        "ax.yaxis.set_ticklabels([\"negative\", \"neutral\",\"positive\"],rotation = 0);"
      ],
      "execution_count": null,
      "outputs": [
        {
          "output_type": "display_data",
          "data": {
            "image/png": "[encoded data removed]",
            "text/plain": [
              "<Figure size 432x288 with 2 Axes>"
            ]
          },
          "metadata": {
            "tags": [],
            "needs_background": "light"
          }
        }
      ]
    },
    {
      "cell_type": "code",
      "metadata": {
        "colab": {
          "base_uri": "https://localhost:8080/"
        },
        "id": "ip8wj4JWI-9p",
        "outputId": "9b4344f8-11d4-4b8e-9d8c-1b1b4d66415f"
      },
      "source": [
        "# classification_report\n",
        "report = metrics.classification_report(y_test.argmax(axis=1), y_pred1.argmax(axis=1) ,target_names=[\"negative\", \"neutral\",\"positive\"],labels = [0,1,2])\n",
        "print(report)"
      ],
      "execution_count": null,
      "outputs": [
        {
          "output_type": "stream",
          "text": [
            "              precision    recall  f1-score   support\n",
            "\n",
            "    negative       0.39      0.56      0.46       116\n",
            "     neutral       0.60      0.03      0.06        96\n",
            "    positive       0.79      0.86      0.82       479\n",
            "\n",
            "    accuracy                           0.69       691\n",
            "   macro avg       0.59      0.48      0.45       691\n",
            "weighted avg       0.70      0.69      0.66       691\n",
            "\n"
          ],
          "name": "stdout"
        }
      ]
    }
  ]
}